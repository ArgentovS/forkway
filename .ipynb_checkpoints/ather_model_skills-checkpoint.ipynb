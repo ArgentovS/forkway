{
 "cells": [
  {
   "cell_type": "markdown",
   "metadata": {
    "id": "K-BAqDEY4ldv"
   },
   "source": [
    "## Классификация [токсичных комментариев](https://www.kaggle.com/c/jigsaw-toxic-comment-classification-challenge)\n",
    "\n",
    "Пример решения задачи многозначной классификации. Архитектура сети основывается на [описании решения](https://www.kaggle.com/c/jigsaw-toxic-comment-classification-challenge/discussion/52644) 3 места в конкурсе.\n",
    "\n",
    "Учебный курс \"[Нейросети для анализа текстов](https://www.asozykin.ru/courses/nnpython)\".\n",
    "\n",
    "Чтобы запускать и редактировать код, сохраните копию этого ноутбука себе (File->Save a copy in Drive...). Свою копию вы сможете изменять и запускать.\n",
    "\n",
    "Не забудьте подключить GPU, чтобы сеть обучалась быстрее (Runtime -> Change Runtime Type -> Hardware Accelerator -> GPU)."
   ]
  },
  {
   "cell_type": "code",
   "execution_count": 95,
   "metadata": {
    "ExecuteTime": {
     "end_time": "2023-03-24T09:36:06.381726Z",
     "start_time": "2023-03-24T09:36:06.376057Z"
    },
    "id": "fN251ib04idq"
   },
   "outputs": [],
   "source": [
    "from tensorflow.keras.models import Sequential\n",
    "from tensorflow.keras.layers import Dense, Embedding, MaxPooling1D, Dropout, LSTM, Bidirectional, SpatialDropout1D\n",
    "from tensorflow.keras import utils\n",
    "from tensorflow.keras.preprocessing.sequence import pad_sequences\n",
    "from tensorflow.keras.preprocessing.text import Tokenizer\n",
    "from tensorflow.keras.callbacks import ModelCheckpoint\n",
    "from tensorflow.keras import utils\n",
    "import pandas as pd\n",
    "import numpy as np\n",
    "import matplotlib.pyplot as plt"
   ]
  },
  {
   "cell_type": "code",
   "execution_count": 304,
   "metadata": {
    "ExecuteTime": {
     "end_time": "2023-03-24T10:44:06.723421Z",
     "start_time": "2023-03-24T10:44:06.719759Z"
    },
    "id": "KVUY1PF0L_mF"
   },
   "outputs": [],
   "source": [
    "# Максимальное количество слов \n",
    "num_words = 10000\n",
    "# Максимальная длина комментария\n",
    "max_comment_len = 100"
   ]
  },
  {
   "cell_type": "markdown",
   "metadata": {
    "heading_collapsed": true,
    "id": "tv_W3Xw2XKin"
   },
   "source": [
    "## Настраиваем Kaggle API\n",
    "\n",
    "Загружаем [Kaggle API Tocken для аутентификации на Kaggle](https://www.kaggle.com/docs/api). Загрузите файл kaggle.json, который вы создали на сайте Kaggle (My Account -> API -> Create New API Token)\n",
    "\n"
   ]
  },
  {
   "cell_type": "code",
   "execution_count": 6,
   "metadata": {
    "ExecuteTime": {
     "end_time": "2023-03-24T09:03:01.044085Z",
     "start_time": "2023-03-24T09:03:01.007832Z"
    },
    "colab": {
     "base_uri": "https://localhost:8080/",
     "height": 75,
     "resources": {
      "http://localhost:8080/nbextensions/google.colab/files.js": {
       "data": "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",
       "headers": [
        [
         "content-type",
         "application/javascript"
        ]
       ],
       "ok": true,
       "status": 200,
       "status_text": ""
      }
     }
    },
    "hidden": true,
    "id": "_o5yFECWXbDb",
    "outputId": "3fc15144-3017-4013-fc72-90dc886c7d7b"
   },
   "outputs": [
    {
     "ename": "NameError",
     "evalue": "name 'files' is not defined",
     "output_type": "error",
     "traceback": [
      "\u001b[0;31m---------------------------------------------------------------------------\u001b[0m",
      "\u001b[0;31mNameError\u001b[0m                                 Traceback (most recent call last)",
      "\u001b[0;32m/var/folders/5h/1vkpjwr90l19cmzfgsfrcpvm0000gn/T/ipykernel_52532/2221370962.py\u001b[0m in \u001b[0;36m<module>\u001b[0;34m\u001b[0m\n\u001b[0;32m----> 1\u001b[0;31m \u001b[0mapi_tocken\u001b[0m \u001b[0;34m=\u001b[0m \u001b[0mfiles\u001b[0m\u001b[0;34m.\u001b[0m\u001b[0mupload\u001b[0m\u001b[0;34m(\u001b[0m\u001b[0;34m)\u001b[0m\u001b[0;34m\u001b[0m\u001b[0;34m\u001b[0m\u001b[0m\n\u001b[0m",
      "\u001b[0;31mNameError\u001b[0m: name 'files' is not defined"
     ]
    }
   ],
   "source": [
    "api_tocken = files.upload()"
   ]
  },
  {
   "cell_type": "code",
   "execution_count": null,
   "metadata": {
    "hidden": true,
    "id": "YSQ_vuwWYSmr"
   },
   "outputs": [],
   "source": [
    "!mkdir /root/.kaggle\n",
    "!mv kaggle.json /root/.kaggle"
   ]
  },
  {
   "cell_type": "markdown",
   "metadata": {
    "heading_collapsed": true,
    "id": "S6itvI2G5H1k"
   },
   "source": [
    "## Загрузка набора данных"
   ]
  },
  {
   "cell_type": "code",
   "execution_count": null,
   "metadata": {
    "colab": {
     "base_uri": "https://localhost:8080/",
     "height": 277
    },
    "hidden": true,
    "id": "D4u76N7ZYKiz",
    "outputId": "ef87dd8b-9f56-4357-a3c2-d3cede08f2da"
   },
   "outputs": [
    {
     "name": "stdout",
     "output_type": "stream",
     "text": [
      "Warning: Your Kaggle API key is readable by other users on this system! To fix this, you can run 'chmod 600 /root/.kaggle/kaggle.json'\n",
      "Warning: Looks like you're using an outdated API Version, please consider updating (server 1.5.6 / client 1.5.4)\n",
      "Downloading test.csv.zip to /content\n",
      " 38% 9.00M/23.4M [00:01<00:01, 9.43MB/s]\n",
      "100% 23.4M/23.4M [00:01<00:00, 22.0MB/s]\n",
      "Downloading sample_submission.csv.zip to /content\n",
      "  0% 0.00/1.39M [00:00<?, ?B/s]\n",
      "100% 1.39M/1.39M [00:00<00:00, 45.4MB/s]\n",
      "Downloading train.csv.zip to /content\n",
      " 99% 26.0M/26.3M [00:00<00:00, 27.0MB/s]\n",
      "100% 26.3M/26.3M [00:00<00:00, 48.9MB/s]\n",
      "Downloading test_labels.csv.zip to /content\n",
      "  0% 0.00/1.46M [00:00<?, ?B/s]\n",
      "100% 1.46M/1.46M [00:00<00:00, 206MB/s]\n"
     ]
    }
   ],
   "source": []
  },
  {
   "cell_type": "code",
   "execution_count": null,
   "metadata": {
    "colab": {
     "base_uri": "https://localhost:8080/",
     "height": 51
    },
    "hidden": true,
    "id": "rYUVPiydYfgk",
    "outputId": "c71303c6-0070-4341-ea80-cb2b1988782f"
   },
   "outputs": [
    {
     "name": "stdout",
     "output_type": "stream",
     "text": [
      "Archive:  train.csv.zip\n",
      "  inflating: train.csv               \n"
     ]
    }
   ],
   "source": [
    "!unzip train.csv.zip"
   ]
  },
  {
   "cell_type": "code",
   "execution_count": null,
   "metadata": {
    "colab": {
     "base_uri": "https://localhost:8080/",
     "height": 86
    },
    "hidden": true,
    "id": "JWa_PvcQYm9K",
    "outputId": "b3d3686e-cb6b-41f2-c62c-f25d0238e177"
   },
   "outputs": [
    {
     "name": "stdout",
     "output_type": "stream",
     "text": [
      "Archive:  test.csv.zip\n",
      "  inflating: test.csv                \n",
      "Archive:  test_labels.csv.zip\n",
      "  inflating: test_labels.csv         \n"
     ]
    }
   ],
   "source": [
    "!unzip test.csv.zip\n",
    "!unzip test_labels.csv.zip"
   ]
  },
  {
   "cell_type": "markdown",
   "metadata": {
    "heading_collapsed": true,
    "id": "131Gk9fzGVMg"
   },
   "source": [
    "## Просматриваем данные"
   ]
  },
  {
   "cell_type": "code",
   "execution_count": null,
   "metadata": {
    "colab": {
     "base_uri": "https://localhost:8080/",
     "height": 51
    },
    "hidden": true,
    "id": "V116c5A82IeD",
    "outputId": "6939b8ab-d69d-4e28-e943-641316f51323"
   },
   "outputs": [],
   "source": []
  },
  {
   "cell_type": "markdown",
   "metadata": {
    "id": "9YjyMnJOHoSY"
   },
   "source": [
    "## Загружаем данные в память"
   ]
  },
  {
   "cell_type": "markdown",
   "metadata": {
    "id": "C6Hs3NIKKqEB"
   },
   "source": [
    "Читаем данные из файла"
   ]
  },
  {
   "cell_type": "code",
   "execution_count": 305,
   "metadata": {
    "ExecuteTime": {
     "end_time": "2023-03-24T10:44:11.322002Z",
     "start_time": "2023-03-24T10:44:10.707886Z"
    },
    "id": "viAteYU0HakW"
   },
   "outputs": [],
   "source": [
    "train = pd.read_excel('2023-01-01-2023-01-10.xlsx')"
   ]
  },
  {
   "cell_type": "markdown",
   "metadata": {
    "id": "gA0GvoWDKulp"
   },
   "source": [
    "Выделяем данные для обучения"
   ]
  },
  {
   "cell_type": "code",
   "execution_count": 306,
   "metadata": {
    "ExecuteTime": {
     "end_time": "2023-03-24T10:44:12.136020Z",
     "start_time": "2023-03-24T10:44:12.132279Z"
    },
    "id": "xKdpzAQKLUsh"
   },
   "outputs": [],
   "source": [
    "comments = train['description']"
   ]
  },
  {
   "cell_type": "code",
   "execution_count": 307,
   "metadata": {
    "ExecuteTime": {
     "end_time": "2023-03-24T10:44:12.846419Z",
     "start_time": "2023-03-24T10:44:12.840707Z"
    },
    "colab": {
     "base_uri": "https://localhost:8080/",
     "height": 120
    },
    "id": "3-13xctTLesU",
    "outputId": "36467096-c8a7-4d63-e1de-26ba14f31568"
   },
   "outputs": [
    {
     "data": {
      "text/plain": [
       "0    <p><strong>EasyTap</strong> - это убер в сфере...\n",
       "1    <p>Если вы хотите получить опыт работы в между...\n",
       "2    <strong>Ваши задачи:</strong> <ul> <li>Разрабо...\n",
       "3    <strong>Обязанности:</strong> <ul> <li>Роботот...\n",
       "4    <strong>Обязанности:</strong> <ul> <li>Обслужи...\n",
       "Name: description, dtype: object"
      ]
     },
     "execution_count": 307,
     "metadata": {},
     "output_type": "execute_result"
    }
   ],
   "source": [
    "comments[:5]"
   ]
  },
  {
   "cell_type": "markdown",
   "metadata": {
    "id": "EyruZkQeLnPa"
   },
   "source": [
    "Выделяем правильные ответы"
   ]
  },
  {
   "cell_type": "code",
   "execution_count": 308,
   "metadata": {
    "ExecuteTime": {
     "end_time": "2023-03-24T10:44:13.645815Z",
     "start_time": "2023-03-24T10:44:13.636406Z"
    },
    "code_folding": []
   },
   "outputs": [],
   "source": [
    "# Сформируем список столбцов исходного датасета\n",
    "# с размеченными навыками для вакансии\n",
    "cols = ['id'] # в первом элементом оставим 'id' для проверки преобразований\n",
    "for col in train.columns:\n",
    "    if 'key' in col:\n",
    "        cols.append(col)\n",
    "# Сформируем и отобразим датафрейм размеченных навыков\n",
    "df_skills = train[cols]\n",
    "\n",
    "# Сформируем список уникальных навыков в исходных данных\n",
    "unique_skills = []\n",
    "for col in cols[1:]: # начинаем со второго столбца, т.к. в первом храниться id\n",
    "    unique_skills.extend(df_skills[col].unique())\n",
    "unique_skills = [skill for skill in list(set(unique_skills))\n",
    "                 if pd.notnull(skill)]"
   ]
  },
  {
   "cell_type": "code",
   "execution_count": 309,
   "metadata": {
    "ExecuteTime": {
     "end_time": "2023-03-24T10:44:15.193822Z",
     "start_time": "2023-03-24T10:44:14.394535Z"
    }
   },
   "outputs": [],
   "source": [
    "# Сформируем датафрейм с векторами таргетов (признаками навков)\n",
    "df_y = pd.concat([train['id'],\n",
    "                 pd.DataFrame(columns=unique_skills)],\n",
    "                 axis=1).fillna(0)\n",
    "for i, row in train[cols[1:]].iterrows():\n",
    "    for key, skill in row.iteritems():\n",
    "        if pd.notnull(skill):\n",
    "            df_y.loc[i, skill] = 1\n",
    "df_skills_max = df_y.drop(['id'], axis=1)"
   ]
  },
  {
   "cell_type": "code",
   "execution_count": 310,
   "metadata": {
    "ExecuteTime": {
     "end_time": "2023-03-24T10:44:16.116674Z",
     "start_time": "2023-03-24T10:44:15.984649Z"
    }
   },
   "outputs": [],
   "source": [
    "# Посчитаем максимально востребованные компетенции\n",
    "df_sort = pd.DataFrame(columns=df_skills_max.columns)\n",
    "for col in df_skills_max.columns:\n",
    "    df_sort.loc[0, col] = df_skills_max[col].sum()"
   ]
  },
  {
   "cell_type": "code",
   "execution_count": 339,
   "metadata": {
    "ExecuteTime": {
     "end_time": "2023-03-24T10:52:11.663412Z",
     "start_time": "2023-03-24T10:52:11.648010Z"
    }
   },
   "outputs": [],
   "source": [
    "sort = dict(df_sort)\n",
    "sort_1 = {elem[0]: elem[1][0] for elem in sort.items()}\n",
    "sort_1\n",
    "d = {x: sort_1[x] for x in sorted(sort_1, key=sort_1.get, reverse=True)}\n",
    "list_max_col = [elem for elem in d]\n",
    "y_train = df_skills_max[list_max_col[:10]]"
   ]
  },
  {
   "cell_type": "markdown",
   "metadata": {
    "heading_collapsed": true,
    "id": "7JuLOCqpLsNL"
   },
   "source": [
    "## Токенизация текста"
   ]
  },
  {
   "cell_type": "code",
   "execution_count": 313,
   "metadata": {
    "ExecuteTime": {
     "end_time": "2023-03-24T10:44:23.521981Z",
     "start_time": "2023-03-24T10:44:23.516586Z"
    },
    "colab": {
     "base_uri": "https://localhost:8080/",
     "height": 120
    },
    "hidden": true,
    "id": "wwF89PAestv0",
    "outputId": "10b9f138-856c-4e84-8ceb-651666e48434"
   },
   "outputs": [
    {
     "data": {
      "text/plain": [
       "0    <p><strong>EasyTap</strong> - это убер в сфере...\n",
       "1    <p>Если вы хотите получить опыт работы в между...\n",
       "2    <strong>Ваши задачи:</strong> <ul> <li>Разрабо...\n",
       "3    <strong>Обязанности:</strong> <ul> <li>Роботот...\n",
       "4    <strong>Обязанности:</strong> <ul> <li>Обслужи...\n",
       "Name: description, dtype: object"
      ]
     },
     "execution_count": 313,
     "metadata": {},
     "output_type": "execute_result"
    }
   ],
   "source": [
    "comments[:5]"
   ]
  },
  {
   "cell_type": "markdown",
   "metadata": {
    "heading_collapsed": true,
    "hidden": true,
    "id": "DTtBSvAfMusM"
   },
   "source": [
    "### Создаем токенизатор Keras"
   ]
  },
  {
   "cell_type": "code",
   "execution_count": 327,
   "metadata": {
    "ExecuteTime": {
     "end_time": "2023-03-24T10:46:36.745477Z",
     "start_time": "2023-03-24T10:46:36.739682Z"
    },
    "hidden": true,
    "id": "x-AUMyjMLw5T"
   },
   "outputs": [],
   "source": [
    "tokenizer = Tokenizer(num_words=num_words)"
   ]
  },
  {
   "cell_type": "markdown",
   "metadata": {
    "heading_collapsed": true,
    "hidden": true,
    "id": "VIxY2pp-M2gw"
   },
   "source": [
    "### Обучаем токенизатор на новостях"
   ]
  },
  {
   "cell_type": "code",
   "execution_count": 328,
   "metadata": {
    "ExecuteTime": {
     "end_time": "2023-03-24T10:46:38.759872Z",
     "start_time": "2023-03-24T10:46:38.389708Z"
    },
    "hidden": true,
    "id": "RfsqlGJZM7HR"
   },
   "outputs": [],
   "source": [
    "tokenizer.fit_on_texts(comments)"
   ]
  },
  {
   "cell_type": "markdown",
   "metadata": {
    "heading_collapsed": true,
    "hidden": true,
    "id": "y6PqC28PND82"
   },
   "source": [
    "### Просматриваем словарь токенизатора"
   ]
  },
  {
   "cell_type": "code",
   "execution_count": 329,
   "metadata": {
    "ExecuteTime": {
     "end_time": "2023-03-24T10:46:50.920004Z",
     "start_time": "2023-03-24T10:46:50.888329Z"
    },
    "colab": {
     "base_uri": "https://localhost:8080/",
     "height": 1000
    },
    "hidden": true,
    "id": "8mWcH0mUMcMU",
    "outputId": "c1d9b132-37e9-4d92-9384-5ce7a187f3bb"
   },
   "outputs": [
    {
     "data": {
      "text/plain": [
       "{'li': 1,\n",
       " 'p': 2,\n",
       " 'и': 3,\n",
       " 'strong': 4,\n",
       " 'в': 5,\n",
       " 'ul': 6,\n",
       " 'с': 7,\n",
       " 'опыт': 8,\n",
       " 'на': 9,\n",
       " 'работы': 10,\n",
       " 'для': 11,\n",
       " 'по': 12,\n",
       " 'мы': 13,\n",
       " 'em': 14,\n",
       " 'знание': 15,\n",
       " 'от': 16,\n",
       " 'br': 17,\n",
       " 'данных': 18,\n",
       " 'python': 19,\n",
       " 'and': 20,\n",
       " 'разработки': 21,\n",
       " 'к': 22,\n",
       " 'компании': 23,\n",
       " 'или': 24,\n",
       " 'что': 25,\n",
       " 'систем': 26,\n",
       " 'возможность': 27,\n",
       " 'понимание': 28,\n",
       " 'будет': 29,\n",
       " 'разработка': 30,\n",
       " '–': 31,\n",
       " 'из': 32,\n",
       " 'участие': 33,\n",
       " 'работа': 34,\n",
       " '—': 35,\n",
       " 'sql': 36,\n",
       " 'quot': 37,\n",
       " 'of': 38,\n",
       " 'умение': 39,\n",
       " 'the': 40,\n",
       " 'требования': 41,\n",
       " 'за': 42,\n",
       " 'а': 43,\n",
       " 'условия': 44,\n",
       " 'linux': 45,\n",
       " 'дмс': 46,\n",
       " 'не': 47,\n",
       " 'работать': 48,\n",
       " '2': 49,\n",
       " 'to': 50,\n",
       " 'задачи': 51,\n",
       " 'у': 52,\n",
       " 'нас': 53,\n",
       " 'знания': 54,\n",
       " 'лет': 55,\n",
       " '•': 56,\n",
       " 'it': 57,\n",
       " 'как': 58,\n",
       " 'график': 59,\n",
       " 'обязанности': 60,\n",
       " 'команде': 61,\n",
       " 'навыки': 62,\n",
       " 'офис': 63,\n",
       " 'до': 64,\n",
       " '3': 65,\n",
       " 'a': 66,\n",
       " 'задач': 67,\n",
       " 'их': 68,\n",
       " 'with': 69,\n",
       " 'со': 70,\n",
       " 'системы': 71,\n",
       " 'бизнес': 72,\n",
       " 'in': 73,\n",
       " 'сотрудников': 74,\n",
       " 'решений': 75,\n",
       " 'рф': 76,\n",
       " 'сервисов': 77,\n",
       " 'плюсом': 78,\n",
       " 'команда': 79,\n",
       " 'процессов': 80,\n",
       " 'предлагаем': 81,\n",
       " 'это': 82,\n",
       " 'docker': 83,\n",
       " 'обучение': 84,\n",
       " 'ит': 85,\n",
       " 'ci': 86,\n",
       " 'postgresql': 87,\n",
       " '5': 88,\n",
       " 'приложений': 89,\n",
       " 'тестирования': 90,\n",
       " 'т': 91,\n",
       " 'анализ': 92,\n",
       " 'принципов': 93,\n",
       " 'программирования': 94,\n",
       " 'поддержка': 95,\n",
       " 'решения': 96,\n",
       " 'компания': 97,\n",
       " 'развитие': 98,\n",
       " 'управления': 99,\n",
       " 'работу': 100,\n",
       " 'технологий': 101,\n",
       " 'тк': 102,\n",
       " 'data': 103,\n",
       " 'системами': 104,\n",
       " 'продуктов': 105,\n",
       " 'оформление': 106,\n",
       " 'развития': 107,\n",
       " 'автоматизации': 108,\n",
       " 'мониторинга': 109,\n",
       " 'если': 110,\n",
       " 'уровне': 111,\n",
       " 'experience': 112,\n",
       " 'образование': 113,\n",
       " 'области': 114,\n",
       " 'cd': 115,\n",
       " 'дня': 116,\n",
       " 'о': 117,\n",
       " 'команду': 118,\n",
       " 'for': 119,\n",
       " 'компаний': 120,\n",
       " 'git': 121,\n",
       " 'есть': 122,\n",
       " '1': 123,\n",
       " '00': 124,\n",
       " 'предстоит': 125,\n",
       " 'c': 126,\n",
       " 'инфраструктуры': 127,\n",
       " 'ищем': 128,\n",
       " 'также': 129,\n",
       " 'офисе': 130,\n",
       " 'новых': 131,\n",
       " 'обучения': 132,\n",
       " 'скидки': 133,\n",
       " 'проектов': 134,\n",
       " 'уровень': 135,\n",
       " 'вы': 136,\n",
       " 'devops': 137,\n",
       " 'высшее': 138,\n",
       " 'россии': 139,\n",
       " 'команды': 140,\n",
       " 'ты': 141,\n",
       " 'документации': 142,\n",
       " 'официальное': 143,\n",
       " 'ansible': 144,\n",
       " 'архитектуры': 145,\n",
       " 'java': 146,\n",
       " 'более': 147,\n",
       " 'инструментов': 148,\n",
       " 'которые': 149,\n",
       " 'bash': 150,\n",
       " 'при': 151,\n",
       " 'администрирования': 152,\n",
       " 'заниматься': 153,\n",
       " 'чем': 154,\n",
       " 'анализа': 155,\n",
       " 'года': 156,\n",
       " 'kubernetes': 157,\n",
       " 'кода': 158,\n",
       " 'наши': 159,\n",
       " 'построения': 160,\n",
       " 'роста': 161,\n",
       " 'моделей': 162,\n",
       " 'страхование': 163,\n",
       " 'разработке': 164,\n",
       " 'we': 165,\n",
       " 'плата': 166,\n",
       " 'заработная': 167,\n",
       " 'языка': 168,\n",
       " 'субд': 169,\n",
       " 'подготовка': 170,\n",
       " 'нашей': 171,\n",
       " 'веб': 172,\n",
       " 'д': 173,\n",
       " 'базе': 174,\n",
       " 'продукты': 175,\n",
       " 'можно': 176,\n",
       " 'стек': 177,\n",
       " 'корпоративные': 178,\n",
       " 'онлайн': 179,\n",
       " 'языков': 180,\n",
       " 'трудоустройство': 181,\n",
       " 'gitlab': 182,\n",
       " 'api': 183,\n",
       " 'владение': 184,\n",
       " 'безопасности': 185,\n",
       " 'oracle': 186,\n",
       " 'технической': 187,\n",
       " 'проведение': 188,\n",
       " 'банка': 189,\n",
       " 'наша': 190,\n",
       " 'team': 191,\n",
       " 'уверенное': 192,\n",
       " 'так': 193,\n",
       " 'автоматизация': 194,\n",
       " 'требований': 195,\n",
       " 'проекты': 196,\n",
       " 'все': 197,\n",
       " 'ос': 198,\n",
       " 'etl': 199,\n",
       " 'взаимодействие': 200,\n",
       " 'написания': 201,\n",
       " '10': 202,\n",
       " 'продукта': 203,\n",
       " 'настройка': 204,\n",
       " 'формат': 205,\n",
       " 'запросов': 206,\n",
       " 'м': 207,\n",
       " 'наших': 208,\n",
       " 'командой': 209,\n",
       " 'сервисы': 210,\n",
       " 'обеспечения': 211,\n",
       " 'вас': 212,\n",
       " 'стоматологией': 213,\n",
       " 'написание': 214,\n",
       " 'программа': 215,\n",
       " 'мониторинг': 216,\n",
       " 'процессы': 217,\n",
       " 'grafana': 218,\n",
       " 'jenkins': 219,\n",
       " 'профессионального': 220,\n",
       " 'рабочего': 221,\n",
       " 'клиентов': 222,\n",
       " 'использования': 223,\n",
       " 'работе': 224,\n",
       " 'разрабатывать': 225,\n",
       " 'техническое': 226,\n",
       " 'нам': 227,\n",
       " 'вместе': 228,\n",
       " 'is': 229,\n",
       " 'который': 230,\n",
       " 'фитнес': 231,\n",
       " 'технологии': 232,\n",
       " 'оптимизация': 233,\n",
       " 'гибридный': 234,\n",
       " 'бизнеса': 235,\n",
       " 'prometheus': 236,\n",
       " 'разработчиков': 237,\n",
       " 'партнеров': 238,\n",
       " 'платформы': 239,\n",
       " '·': 240,\n",
       " 'создание': 241,\n",
       " 'аналитики': 242,\n",
       " 'сфере': 243,\n",
       " 'день': 244,\n",
       " 'web': 245,\n",
       " 'опытом': 246,\n",
       " 'hadoop': 247,\n",
       " 'п': 248,\n",
       " 'zabbix': 249,\n",
       " 'участвовать': 250,\n",
       " 'чтобы': 251,\n",
       " 'качества': 252,\n",
       " 'корпоративная': 253,\n",
       " 'других': 254,\n",
       " 'желательно': 255,\n",
       " 'kafka': 256,\n",
       " 'bi': 257,\n",
       " 'apache': 258,\n",
       " 'время': 259,\n",
       " 'программного': 260,\n",
       " 'информации': 261,\n",
       " 'программы': 262,\n",
       " 'под': 263,\n",
       " 'проектах': 264,\n",
       " 'on': 265,\n",
       " 'уровня': 266,\n",
       " 'преимуществом': 267,\n",
       " 'проекта': 268,\n",
       " 'сейчас': 269,\n",
       " 'английского': 270,\n",
       " 'ms': 271,\n",
       " 'mysql': 272,\n",
       " 'наличие': 273,\n",
       " 'английский': 274,\n",
       " 'том': 275,\n",
       " 'отчетности': 276,\n",
       " 'настройки': 277,\n",
       " 'nginx': 278,\n",
       " 'work': 279,\n",
       " 'or': 280,\n",
       " 'опыта': 281,\n",
       " 'рынке': 282,\n",
       " 'администрирование': 283,\n",
       " 'пользователей': 284,\n",
       " 'первого': 285,\n",
       " 'профессионалов': 286,\n",
       " 'курсы': 287,\n",
       " '100': 288,\n",
       " 'алгоритмов': 289,\n",
       " 'бд': 290,\n",
       " 'ip': 291,\n",
       " 'скриптов': 292,\n",
       " 'гибкий': 293,\n",
       " 'модели': 294,\n",
       " 'контроля': 295,\n",
       " '1с': 296,\n",
       " 'django': 297,\n",
       " 'новые': 298,\n",
       " 'are': 299,\n",
       " 'интересные': 300,\n",
       " 'рамках': 301,\n",
       " 'желание': 302,\n",
       " 'серверов': 303,\n",
       " 'полностью': 304,\n",
       " 'проектирования': 305,\n",
       " 'базовые': 306,\n",
       " 'после': 307,\n",
       " 'development': 308,\n",
       " 'вам': 309,\n",
       " 'знаний': 310,\n",
       " 'rest': 311,\n",
       " 'our': 312,\n",
       " 'внедрения': 313,\n",
       " 'нами': 314,\n",
       " 'jira': 315,\n",
       " 'делать': 316,\n",
       " 'числе': 317,\n",
       " 'которая': 318,\n",
       " 'различных': 319,\n",
       " 'создавать': 320,\n",
       " 'оборудования': 321,\n",
       " 'тестирование': 322,\n",
       " 'результатам': 323,\n",
       " 'windows': 324,\n",
       " 'ol': 325,\n",
       " 'счет': 326,\n",
       " 'включая': 327,\n",
       " 'другие': 328,\n",
       " 'х': 329,\n",
       " 'связи': 330,\n",
       " 'наш': 331,\n",
       " 'сервис': 332,\n",
       " 'контроль': 333,\n",
       " 'информационных': 334,\n",
       " 'agile': 335,\n",
       " 'ожидаем': 336,\n",
       " 'реализации': 337,\n",
       " 'тебя': 338,\n",
       " 'но': 339,\n",
       " 'проектирование': 340,\n",
       " 'компенсация': 341,\n",
       " 'всех': 342,\n",
       " 'то': 343,\n",
       " 'обработки': 344,\n",
       " 'разработкой': 345,\n",
       " 'airflow': 346,\n",
       " 'части': 347,\n",
       " 'тестов': 348,\n",
       " 'процесса': 349,\n",
       " 'его': 350,\n",
       " 'you': 351,\n",
       " 'детей': 352,\n",
       " 'сопровождение': 353,\n",
       " 'проект': 354,\n",
       " 'возможности': 355,\n",
       " 'as': 356,\n",
       " 'пакет': 357,\n",
       " 'поддержки': 358,\n",
       " 'др': 359,\n",
       " 'метро': 360,\n",
       " 'инструментами': 361,\n",
       " 'система': 362,\n",
       " 'формирование': 363,\n",
       " 'язык': 364,\n",
       " 'создания': 365,\n",
       " 'соответствии': 366,\n",
       " '8': 367,\n",
       " 'белая': 368,\n",
       " 'разработчика': 369,\n",
       " 'построение': 370,\n",
       " 'доступ': 371,\n",
       " 'аналитика': 372,\n",
       " 'использованием': 373,\n",
       " 'помощь': 374,\n",
       " 'код': 375,\n",
       " 'внедрение': 376,\n",
       " '18': 377,\n",
       " 'готовы': 378,\n",
       " 'премии': 379,\n",
       " 'сбера': 380,\n",
       " 'метрик': 381,\n",
       " 'сетевых': 382,\n",
       " 'отчетов': 383,\n",
       " 'развивать': 384,\n",
       " 'баз': 385,\n",
       " '9': 386,\n",
       " 'писать': 387,\n",
       " 'clickhouse': 388,\n",
       " 'эксплуатации': 389,\n",
       " 'приложения': 390,\n",
       " 'развитии': 391,\n",
       " 'над': 392,\n",
       " 'жизнь': 393,\n",
       " 'нужно': 394,\n",
       " 'экосистемы': 395,\n",
       " 'etc': 396,\n",
       " 'elk': 397,\n",
       " 'основе': 398,\n",
       " 'эффективности': 399,\n",
       " 'аналитических': 400,\n",
       " 'управление': 401,\n",
       " '4': 402,\n",
       " 'оптимизации': 403,\n",
       " 'сложные': 404,\n",
       " 'специалистов': 405,\n",
       " 'ждем': 406,\n",
       " 'поддерживать': 407,\n",
       " 'spark': 408,\n",
       " 'проведения': 409,\n",
       " 'базы': 410,\n",
       " 'информационной': 411,\n",
       " 'redis': 412,\n",
       " 'еще': 413,\n",
       " 'проводить': 414,\n",
       " 'продукт': 415,\n",
       " 'основных': 416,\n",
       " 'данными': 417,\n",
       " 'каждый': 418,\n",
       " 'оклад': 419,\n",
       " 'карьерного': 420,\n",
       " 'backend': 421,\n",
       " 'рынка': 422,\n",
       " 'жизни': 423,\n",
       " 'ml': 424,\n",
       " 'cloud': 425,\n",
       " 'центр': 426,\n",
       " 'базами': 427,\n",
       " 'ios': 428,\n",
       " 'хорошее': 429,\n",
       " 'начало': 430,\n",
       " 'обеспечение': 431,\n",
       " 'во': 432,\n",
       " 'корпоративный': 433,\n",
       " 'протоколов': 434,\n",
       " 'k8s': 435,\n",
       " 'развертывания': 436,\n",
       " 'производительности': 437,\n",
       " 'will': 438,\n",
       " 'сети': 439,\n",
       " 'обсуждается': 440,\n",
       " 'решение': 441,\n",
       " 'go': 442,\n",
       " 'skills': 443,\n",
       " 'современный': 444,\n",
       " 'excel': 445,\n",
       " 'сбора': 446,\n",
       " 'работаем': 447,\n",
       " 'tcp': 448,\n",
       " 'оценка': 449,\n",
       " 'где': 450,\n",
       " 'развиваться': 451,\n",
       " 'поэтому': 452,\n",
       " 'сложных': 453,\n",
       " 'проблем': 454,\n",
       " 'системного': 455,\n",
       " 'иб': 456,\n",
       " 'внутренних': 457,\n",
       " 'времени': 458,\n",
       " 'без': 459,\n",
       " 'между': 460,\n",
       " 'льготные': 461,\n",
       " 'основ': 462,\n",
       " 'ее': 463,\n",
       " 'высоконагруженных': 464,\n",
       " 'js': 465,\n",
       " 'пр': 466,\n",
       " 'работ': 467,\n",
       " 'сетей': 468,\n",
       " 'amp': 469,\n",
       " 'услуг': 470,\n",
       " 'рост': 471,\n",
       " 'является': 472,\n",
       " 'поиске': 473,\n",
       " 'power': 474,\n",
       " 'профессиональное': 475,\n",
       " 'кофе': 476,\n",
       " '20': 477,\n",
       " 'rabbitmq': 478,\n",
       " 'современных': 479,\n",
       " 'квалификации': 480,\n",
       " 'confluence': 481,\n",
       " 'гибкое': 482,\n",
       " 'qa': 483,\n",
       " 'нового': 484,\n",
       " 'центре': 485,\n",
       " 'функционала': 486,\n",
       " 'javascript': 487,\n",
       " 'поиск': 488,\n",
       " 'решать': 489,\n",
       " 'выполнения': 490,\n",
       " 'мероприятия': 491,\n",
       " 'технических': 492,\n",
       " 'be': 493,\n",
       " 'виртуализации': 494,\n",
       " 'удаленно': 495,\n",
       " 'здоровье': 496,\n",
       " 'место': 497,\n",
       " 'только': 498,\n",
       " 'кто': 499,\n",
       " 'конференциях': 500,\n",
       " 'заработной': 501,\n",
       " 'тренинги': 502,\n",
       " 'тебе': 503,\n",
       " 'своей': 504,\n",
       " 'занимается': 505,\n",
       " 'конференции': 506,\n",
       " 'инженера': 507,\n",
       " 'человек': 508,\n",
       " 'приглашаем': 509,\n",
       " 'php': 510,\n",
       " 'собеседования': 511,\n",
       " 'спорт': 512,\n",
       " 'коллектив': 513,\n",
       " '7': 514,\n",
       " 'сервиса': 515,\n",
       " 'быть': 516,\n",
       " 'приветствуется': 517,\n",
       " 'мтс': 518,\n",
       " 'that': 519,\n",
       " 'knowledge': 520,\n",
       " 'офиса': 521,\n",
       " 'code': 522,\n",
       " 'год': 523,\n",
       " 'ч': 524,\n",
       " 'срока': 525,\n",
       " 'услуги': 526,\n",
       " 'системах': 527,\n",
       " 'инструменты': 528,\n",
       " 'практический': 529,\n",
       " 'span': 530,\n",
       " 'оплата': 531,\n",
       " 'команд': 532,\n",
       " 'версий': 533,\n",
       " 'платы': 534,\n",
       " 'уже': 535,\n",
       " 'инцидентов': 536,\n",
       " 'свои': 537,\n",
       " 'существующих': 538,\n",
       " 'рабочий': 539,\n",
       " 'рады': 540,\n",
       " 'проекте': 541,\n",
       " 'используем': 542,\n",
       " 'корпоративных': 543,\n",
       " 'стека': 544,\n",
       " 'сопровождения': 545,\n",
       " 'средств': 546,\n",
       " 'получить': 547,\n",
       " 'заработную': 548,\n",
       " 'плату': 549,\n",
       " 'удаленный': 550,\n",
       " 'менее': 551,\n",
       " 'деятельности': 552,\n",
       " 'активно': 553,\n",
       " '50': 554,\n",
       " 'себя': 555,\n",
       " 'инженеров': 556,\n",
       " 'внутри': 557,\n",
       " '6': 558,\n",
       " 'компенсацию': 559,\n",
       " 'интеграции': 560,\n",
       " 'много': 561,\n",
       " 'языке': 562,\n",
       " 'повышения': 563,\n",
       " 'at': 564,\n",
       " '30': 565,\n",
       " 'новый': 566,\n",
       " 'полис': 567,\n",
       " 'разработчик': 568,\n",
       " 'автоматизировать': 569,\n",
       " 'качестве': 570,\n",
       " 'данные': 571,\n",
       " 'будут': 572,\n",
       " 'взаимодействия': 573,\n",
       " 'социальный': 574,\n",
       " 'ответственность': 575,\n",
       " 'платформу': 576,\n",
       " 'оценки': 577,\n",
       " 'компонентов': 578,\n",
       " 'испытательного': 579,\n",
       " 'связь': 580,\n",
       " 'свою': 581,\n",
       " 'делаем': 582,\n",
       " 'http': 583,\n",
       " 'from': 584,\n",
       " 'согласно': 585,\n",
       " 'лучших': 586,\n",
       " 'году': 587,\n",
       " 'через': 588,\n",
       " 'имеете': 589,\n",
       " 'разработчиками': 590,\n",
       " 'хранения': 591,\n",
       " 'помощью': 592,\n",
       " 'быстро': 593,\n",
       " 'людей': 594,\n",
       " 'знакомство': 595,\n",
       " 'dwh': 596,\n",
       " 'an': 597,\n",
       " '000': 598,\n",
       " 'android': 599,\n",
       " 'fastapi': 600,\n",
       " 'льготное': 601,\n",
       " 'анализировать': 602,\n",
       " 'доступности': 603,\n",
       " 'openshift': 604,\n",
       " 'продаж': 605,\n",
       " 'тех': 606,\n",
       " 'сделать': 607,\n",
       " 'платформа': 608,\n",
       " 'результат': 609,\n",
       " 'самостоятельно': 610,\n",
       " 'случаев': 611,\n",
       " 'организации': 612,\n",
       " 'корпоративное': 613,\n",
       " 'показателей': 614,\n",
       " 'unix': 615,\n",
       " 'greenplum': 616,\n",
       " 'design': 617,\n",
       " 'кандидата': 618,\n",
       " 'тинькофф': 619,\n",
       " 'отличное': 620,\n",
       " 'аккредитованной': 621,\n",
       " 'сетевого': 622,\n",
       " 'машинного': 623,\n",
       " 'направления': 624,\n",
       " 'микросервисной': 625,\n",
       " 'витрин': 626,\n",
       " 'working': 627,\n",
       " 'профессиональный': 628,\n",
       " 'один': 629,\n",
       " 'запросы': 630,\n",
       " 'комфортный': 631,\n",
       " 'ведение': 632,\n",
       " 'будем': 633,\n",
       " 'российских': 634,\n",
       " 'систему': 635,\n",
       " 'выбор': 636,\n",
       " 'рисков': 637,\n",
       " 'business': 638,\n",
       " 'высокий': 639,\n",
       " 'дополнительные': 640,\n",
       " 'несчастных': 641,\n",
       " 'требуется': 642,\n",
       " 'важно': 643,\n",
       " 'основные': 644,\n",
       " 'поддержку': 645,\n",
       " 'внешних': 646,\n",
       " 'имеешь': 647,\n",
       " 'systems': 648,\n",
       " 'своих': 649,\n",
       " 'отсутствие': 650,\n",
       " 'итогам': 651,\n",
       " 'работает': 652,\n",
       " 'дней': 653,\n",
       " 'режиме': 654,\n",
       " 'принимать': 655,\n",
       " 'командами': 656,\n",
       " 'источников': 657,\n",
       " 'одного': 658,\n",
       " 'проектами': 659,\n",
       " 'всегда': 660,\n",
       " 'nosql': 661,\n",
       " 'которой': 662,\n",
       " 'страховку': 663,\n",
       " 'aws': 664,\n",
       " 'уверенные': 665,\n",
       " 'рабочее': 666,\n",
       " 'mongodb': 667,\n",
       " 'выполнение': 668,\n",
       " 'них': 669,\n",
       " 'terraform': 670,\n",
       " 'management': 671,\n",
       " 'территории': 672,\n",
       " 'защиты': 673,\n",
       " 'ожидания': 674,\n",
       " 'методов': 675,\n",
       " 'крупнейших': 676,\n",
       " 'частью': 677,\n",
       " 'your': 678,\n",
       " 'нашу': 679,\n",
       " 'процесс': 680,\n",
       " 'программ': 681,\n",
       " 'имеет': 682,\n",
       " 'города': 683,\n",
       " 'умеешь': 684,\n",
       " 'собственных': 685,\n",
       " 'навыков': 686,\n",
       " 'системе': 687,\n",
       " 'бюрократии': 688,\n",
       " 'test': 689,\n",
       " 'статистики': 690,\n",
       " 'лидеров': 691,\n",
       " 'подход': 692,\n",
       " 'open': 693,\n",
       " 'корпоративной': 694,\n",
       " 'скриптовых': 695,\n",
       " 'основной': 696,\n",
       " 'обслуживание': 697,\n",
       " 'удаленная': 698,\n",
       " 'повышение': 699,\n",
       " '11': 700,\n",
       " 'любой': 701,\n",
       " 'резюме': 702,\n",
       " 'проектировании': 703,\n",
       " 'же': 704,\n",
       " 'например': 705,\n",
       " 'помогаем': 706,\n",
       " 'тестовых': 707,\n",
       " 'нашего': 708,\n",
       " 'elasticsearch': 709,\n",
       " 'engineer': 710,\n",
       " 'методологии': 711,\n",
       " 'контейнеризации': 712,\n",
       " 'инфраструктуру': 713,\n",
       " 'support': 714,\n",
       " 'месяц': 715,\n",
       " 'flask': 716,\n",
       " 'системой': 717,\n",
       " 'принципы': 718,\n",
       " 'ооп': 719,\n",
       " 'устранение': 720,\n",
       " 'кредитования': 721,\n",
       " 'analysis': 722,\n",
       " 'результатов': 723,\n",
       " 'тысяч': 724,\n",
       " 'какие': 725,\n",
       " 'крупных': 726,\n",
       " 'участия': 727,\n",
       " 'программных': 728,\n",
       " 'корпоративном': 729,\n",
       " 'родственников': 730,\n",
       " 'зарплата': 731,\n",
       " 'реляционными': 732,\n",
       " 'библиотеки': 733,\n",
       " 'другими': 734,\n",
       " 'месяца': 735,\n",
       " 'функциональных': 736,\n",
       " 'достойная': 737,\n",
       " 'google': 738,\n",
       " 'создаем': 739,\n",
       " 'чтения': 740,\n",
       " 'технические': 741,\n",
       " 'стоматологию': 742,\n",
       " 'стать': 743,\n",
       " 'оборудование': 744,\n",
       " 'обязательно': 745,\n",
       " 'performance': 746,\n",
       " 'уязвимостей': 747,\n",
       " 'react': 748,\n",
       " 'способность': 749,\n",
       " 'организация': 750,\n",
       " 'вашим': 751,\n",
       " 'подписка': 752,\n",
       " 'выявление': 753,\n",
       " 'реализация': 754,\n",
       " 'интеграционных': 755,\n",
       " 'программу': 756,\n",
       " 'system': 757,\n",
       " 'выполнять': 758,\n",
       " 'условиях': 759,\n",
       " 'software': 760,\n",
       " 'базовых': 761,\n",
       " 'всей': 762,\n",
       " 'российский': 763,\n",
       " 'postgres': 764,\n",
       " 'подарки': 765,\n",
       " 'процессе': 766,\n",
       " 'интеграция': 767,\n",
       " 'review': 768,\n",
       " 'digital': 769,\n",
       " 'отдыха': 770,\n",
       " 'зрения': 771,\n",
       " 'have': 772,\n",
       " 'office': 773,\n",
       " 'all': 774,\n",
       " 'процедур': 775,\n",
       " 'ad': 776,\n",
       " 'внешними': 777,\n",
       " 'собеседовании': 778,\n",
       " '15': 779,\n",
       " 'входит': 780,\n",
       " 'целью': 781,\n",
       " 'технологический': 782,\n",
       " 'свой': 783,\n",
       " 'сопровождать': 784,\n",
       " 'предложения': 785,\n",
       " 'того': 786,\n",
       " 'постоянно': 787,\n",
       " 'вебинары': 788,\n",
       " 'разработку': 789,\n",
       " 'дома': 790,\n",
       " 'end': 791,\n",
       " 'может': 792,\n",
       " 'обслуживания': 793,\n",
       " 'роли': 794,\n",
       " 'качество': 795,\n",
       " 'мире': 796,\n",
       " 'конкурентная': 797,\n",
       " 'большими': 798,\n",
       " 'языках': 799,\n",
       " 'intermediate': 800,\n",
       " 'platform': 801,\n",
       " 'сервисами': 802,\n",
       " 'расти': 803,\n",
       " 'доработка': 804,\n",
       " 'промышленной': 805,\n",
       " 'взаимодействовать': 806,\n",
       " 'предложить': 807,\n",
       " 'qt': 808,\n",
       " 'pandas': 809,\n",
       " 'совместно': 810,\n",
       " 'стоимости': 811,\n",
       " 'ru': 812,\n",
       " 'большим': 813,\n",
       " 'стабильный': 814,\n",
       " 'crm': 815,\n",
       " 'атмосфера': 816,\n",
       " 'solutions': 817,\n",
       " 'языком': 818,\n",
       " 'цикла': 819,\n",
       " 'english': 820,\n",
       " 'банк': 821,\n",
       " 'vmware': 822,\n",
       " 'technical': 823,\n",
       " 'администратора': 824,\n",
       " 'очень': 825,\n",
       " 'информацию': 826,\n",
       " 'frontend': 827,\n",
       " 'этом': 828,\n",
       " 'ипотека': 829,\n",
       " 'либо': 830,\n",
       " 'bitbucket': 831,\n",
       " 'бонусы': 832,\n",
       " 'группы': 833,\n",
       " 'дохода': 834,\n",
       " 'сценариев': 835,\n",
       " 'идеи': 836,\n",
       " 'смежными': 837,\n",
       " 'infrastructure': 838,\n",
       " 'services': 839,\n",
       " 'разбираться': 840,\n",
       " 'операционных': 841,\n",
       " 'dns': 842,\n",
       " 'ресурсов': 843,\n",
       " 'мобильных': 844,\n",
       " 'планирование': 845,\n",
       " 'html': 846,\n",
       " 'lead': 847,\n",
       " 'структур': 848,\n",
       " 'среды': 849,\n",
       " 'промышленных': 850,\n",
       " 'курсов': 851,\n",
       " 'ведущих': 852,\n",
       " 'консультации': 853,\n",
       " 'готовность': 854,\n",
       " 'пользователь': 855,\n",
       " 'изучение': 856,\n",
       " 'puppet': 857,\n",
       " 'подразделениями': 858,\n",
       " 'топ': 859,\n",
       " 'sre': 860,\n",
       " 'образования': 861,\n",
       " 'цифровых': 862,\n",
       " 'ваши': 863,\n",
       " 'возможен': 864,\n",
       " 'которых': 865,\n",
       " 'сотрудника': 866,\n",
       " 'продуктовых': 867,\n",
       " 'high': 868,\n",
       " 'влиять': 869,\n",
       " 'минут': 870,\n",
       " 'аккредитованная': 871,\n",
       " 'проводим': 872,\n",
       " 'экспертов': 873,\n",
       " 'результаты': 874,\n",
       " 'r': 875,\n",
       " 'занятия': 876,\n",
       " 'медицинское': 877,\n",
       " 'рубеж': 878,\n",
       " 'желателен': 879,\n",
       " 'предпочтительно': 880,\n",
       " 'самых': 881,\n",
       " 'зарплату': 882,\n",
       " 'отдела': 883,\n",
       " 'момент': 884,\n",
       " 'всё': 885,\n",
       " 'https': 886,\n",
       " 'библиотека': 887,\n",
       " 'москве': 888,\n",
       " 'golang': 889,\n",
       " 'оптимизировать': 890,\n",
       " 'связанных': 891,\n",
       " 'финансовых': 892,\n",
       " 'сборки': 893,\n",
       " 'years': 894,\n",
       " 'текущих': 895,\n",
       " 'хранилища': 896,\n",
       " 'сбор': 897,\n",
       " 'аналитиков': 898,\n",
       " 'quality': 899,\n",
       " 'tools': 900,\n",
       " 'centos': 901,\n",
       " 'интернет': 902,\n",
       " 'компанию': 903,\n",
       " 'каждого': 904,\n",
       " 'стабильной': 905,\n",
       " 'заботу': 906,\n",
       " 'достойную': 907,\n",
       " 'обсудим': 908,\n",
       " 'индивидуально': 909,\n",
       " 'тестировать': 910,\n",
       " 'точки': 911,\n",
       " 'удобный': 912,\n",
       " 'разработчики': 913,\n",
       " 'кросс': 914,\n",
       " 'минутах': 915,\n",
       " 'одной': 916,\n",
       " 'дресс': 917,\n",
       " 'расширенный': 918,\n",
       " '12': 919,\n",
       " 'стандартов': 920,\n",
       " 'product': 921,\n",
       " 'митапы': 922,\n",
       " 'security': 923,\n",
       " 'бонус': 924,\n",
       " 'трафика': 925,\n",
       " 'материалов': 926,\n",
       " 'направлениям': 927,\n",
       " 'automation': 928,\n",
       " 'платформ': 929,\n",
       " 'itentika': 930,\n",
       " 'занятость': 931,\n",
       " 'международной': 932,\n",
       " 'доход': 933,\n",
       " 'почему': 934,\n",
       " 'стабильная': 935,\n",
       " 'математическое': 936,\n",
       " 'умеете': 937,\n",
       " 'спортивные': 938,\n",
       " 'ошибок': 939,\n",
       " 'заказчиками': 940,\n",
       " 'рабочих': 941,\n",
       " 'близких': 942,\n",
       " 'бесплатная': 943,\n",
       " 'применения': 944,\n",
       " 'теории': 945,\n",
       " 'middle': 946,\n",
       " 'современные': 947,\n",
       " 'санкт': 948,\n",
       " 'университете': 949,\n",
       " 'вакансия': 950,\n",
       " 'кандидатов': 951,\n",
       " 'yandex': 952,\n",
       " 'формирования': 953,\n",
       " 'предоставляем': 954,\n",
       " 'дни': 955,\n",
       " 'крупной': 956,\n",
       " 'нет': 957,\n",
       " 'модулей': 958,\n",
       " 'находить': 959,\n",
       " 'проверка': 960,\n",
       " 'развитию': 961,\n",
       " 'можешь': 962,\n",
       " 'проектной': 963,\n",
       " 'корпоративную': 964,\n",
       " 'программирование': 965,\n",
       " 'отдых': 966,\n",
       " 'задача': 967,\n",
       " 'видеть': 968,\n",
       " 'поиска': 969,\n",
       " 'science': 970,\n",
       " 'hive': 971,\n",
       " 'занятий': 972,\n",
       " 'инфраструктурой': 973,\n",
       " 'технологиями': 974,\n",
       " 'профильных': 975,\n",
       " 'заказчиков': 976,\n",
       " 'описание': 977,\n",
       " 'company': 978,\n",
       " 'stack': 979,\n",
       " 'openstack': 980,\n",
       " 'изменений': 981,\n",
       " 'организаций': 982,\n",
       " 'получения': 983,\n",
       " 'инфраструктуре': 984,\n",
       " 'школа': 985,\n",
       " 'нагрузки': 986,\n",
       " 'г': 987,\n",
       " 'проблемы': 988,\n",
       " 'дружный': 989,\n",
       " 'постановка': 990,\n",
       " 'занимаемся': 991,\n",
       " 'часть': 992,\n",
       " 'рублей': 993,\n",
       " 'больших': 994,\n",
       " 'learning': 995,\n",
       " 'согласование': 996,\n",
       " 'всем': 997,\n",
       " 'привет': 998,\n",
       " 'scala': 999,\n",
       " 'одном': 1000,\n",
       " ...}"
      ]
     },
     "execution_count": 329,
     "metadata": {},
     "output_type": "execute_result"
    }
   ],
   "source": [
    "tokenizer.word_index"
   ]
  },
  {
   "cell_type": "markdown",
   "metadata": {
    "hidden": true,
    "id": "s_nyPsVLNW-f"
   },
   "source": [
    "Преобразуем комментарии в числовое представление"
   ]
  },
  {
   "cell_type": "code",
   "execution_count": 330,
   "metadata": {
    "ExecuteTime": {
     "end_time": "2023-03-24T10:46:56.771359Z",
     "start_time": "2023-03-24T10:46:56.453838Z"
    },
    "hidden": true,
    "id": "bMZ6e-zEJHr1"
   },
   "outputs": [],
   "source": [
    "sequences = tokenizer.texts_to_sequences(comments)"
   ]
  },
  {
   "cell_type": "markdown",
   "metadata": {
    "heading_collapsed": true,
    "hidden": true,
    "id": "aZ_NJ2SlNwMI"
   },
   "source": [
    "### Просматриваем новости в числовом представлении"
   ]
  },
  {
   "cell_type": "code",
   "execution_count": 331,
   "metadata": {
    "ExecuteTime": {
     "end_time": "2023-03-24T10:46:58.260225Z",
     "start_time": "2023-03-24T10:46:58.256545Z"
    },
    "colab": {
     "base_uri": "https://localhost:8080/",
     "height": 51
    },
    "hidden": true,
    "id": "xIUJvjguN0S0",
    "outputId": "b926ddc6-43c8-43cd-efb1-3ec1340ef317"
   },
   "outputs": [
    {
     "name": "stdout",
     "output_type": "stream",
     "text": [
      "<p>Если вы хотите получить опыт работы в международной компании,обладаете высокой результативностью и самоорганизованностью, приглашаем вас пройти интервью в компании KIBERone в городе Миасс.</p> <p>В обучении детей в Первой Международной КиберШколе будущего для нового IT-поколения KIBERone мы применяем самые прогрессивные технологии.<br />Мы не обычная школа, мы та самая КиберШкола, где приятно находится в кругу своих единомышленников!</p> <p><strong>Мы предоставляем:</strong></p> <p>- модный, востребованный и актуальный продукт в сфере кибер-образования для детей;</p> <p>- работу в составе прогрессивной команде профессионалов;</p> <p>- обучение основам работы с детской и подростковой аудиторией;</p> <p>- методические пособия с подробной инструкцией на каждый урок;</p> <p>- возможность обучаться и общаться с лидерами отрасли IT (Федеральный и международный уровень в том числе представители Силиконовой Долины)</p> <p><strong>Обязанности:</strong></p> <p>- Транслирование программ международной КиберШколы по методическим пособиям и передача практического опыта для нового it-поколения от 6 до 14 лет.<br />- Участие в промо-мероприятиях и конференциях;</p> <p><strong>Требования:</strong></p> <p>- Знание базовых основ компьютерной грамотности;</p> <p>- Знание алгоритмизации;</p> <p>- Знание основ языков программирования;</p> <p>- Умение разбираться с методикой и платформами в соответствии с инструкцией;</p> <p>- Знание одного или нескольких языков программирования</p> <p>- Высшее или неоконченное высшее образование в сфере IT</p> <p>- Обучаемость, желание получать новые знания</p> <p><strong>Условия работы и оплаты:</strong></p> <ul> <li>Занятия в выходные дни - сб и вс или 1 день;</li> <li>Гибкий график, возможность совмещения с основной работой;</li> <li>Команда молодых профессионалов, которая участвует в создании нового интеллектуального общества;</li> <li>Заработная плата, зависит от учебной нагрузки и количества проведенных мероприятий.</li> </ul> <p><strong>- Условия оплаты: </strong>550р. в час, 1 занятие длится 2 часа, оплата за 1 занятие - 1100р.</p> <p>Занятость от 4х часов в выходные дни</p> <p><strong>- </strong>Работа в перспективной и развивающейся компании международного уровня.</p> <p>Доход в месяц от 8000р. при занятости 4 часа в неделю.</p> <p><strong>Возможность совмещать ставку со ставкой учителя информатики в школе - при желании за отдельную заработную плату, при необходимости предоставим педагогические курсы.</strong></p> <p>Откликаясь на вакансию, просим указать мотивацию, почему вам интересно развивать КиберШколу цифровых технологий для детей.</p> <p>С нами интересно и престижно:</p> <p>- КиберШкола имеет международный формат, наши офисы расположены в Америке, и России, ежемесячно открываются филиалы на территории РФ и Европы;</p> <p>- Мы имеем высокий спрос на рынке образовательных услуг и не имеем конкурентов на рынке, благодаря методикам, сервису и автоматизации процессов ;</p>\n",
      "[2, 110, 136, 2164, 547, 8, 10, 5, 932, 23, 2609, 2289, 3, 509, 212, 2793, 1104, 5, 23, 9370, 5, 2610, 2, 2, 5, 2611, 352, 5, 4267, 932, 1962, 11, 484, 57, 1451, 9370, 13, 5531, 2290, 232, 17, 13, 47, 985, 13, 9371, 9372, 450, 9373, 1895, 5, 9374, 649, 1896, 2, 2, 4, 13, 954, 4, 2, 2, 9375, 3, 9376, 415, 5, 243, 7521, 861, 11, 352, 2, 2, 100, 5, 2436, 61, 286, 2, 2, 84, 7522, 10, 7, 3, 5532, 2, 2, 9377, 4766, 7, 9378, 9, 418, 6359, 2, 2, 27, 1963, 3, 2612, 7, 7523, 1502, 57, 7524, 3, 2165, 135, 5, 275, 317, 7525, 2, 2, 4, 60, 4, 2, 2, 681, 932, 12, 3, 5533, 3043, 281, 11, 484, 57, 1451, 16, 558, 64, 2613, 55, 17, 33, 5, 1264, 3, 500, 2, 2, 4, 41, 4, 2, 2, 15, 761, 462, 4268, 2, 2, 15, 9379, 2, 2, 15, 462, 180, 94, 2, 2, 39, 840, 7, 7526, 3, 3268, 5, 366, 7, 9378, 2, 2, 15, 658, 24, 1304, 180, 94, 2, 2, 138, 24, 7527, 138, 113, 5, 243, 57, 2, 2, 1663, 302, 1815, 298, 54, 2, 2, 4, 44, 10, 3, 1341, 4, 2, 6, 1, 876, 5, 1664, 955, 3044, 3, 3549, 24, 123, 244, 1, 1, 293, 59, 27, 9380, 7, 696, 2166, 1, 1, 79, 4269, 286, 318, 6360, 5, 1816, 484, 9381, 3550, 1, 1, 167, 166, 1964, 16, 9382, 986, 3, 2794, 6361, 1223, 1, 6, 2, 4, 44, 1341, 4, 5, 2291, 123, 3045, 7528, 49, 1452, 531, 42, 123, 3045, 2, 2, 931, 16, 9383, 1265, 5, 1664, 955, 2, 2, 4, 4, 34, 5, 9384, 3, 1665, 23, 3551, 266, 2, 2, 933, 5, 715, 16, 151, 6362, 402, 1452, 5, 1342, 2, 2, 4, 27, 4270, 4767, 70, 4271, 3881, 5, 1036, 151, 2292, 42, 548, 549, 151, 1266, 5534, 287, 4, 2, 2, 9, 1503, 5535, 9385, 4272, 934, 309, 1037, 384, 862, 101, 11, 352, 2, 2, 7, 314, 1037, 3, 9386, 2, 2, 9372, 682, 2165, 205, 159, 1174, 7529, 5, 9387, 3, 139, 5536, 9, 672, 76, 3, 3882, 2, 2, 13, 4273, 639, 5537, 9, 282, 1616, 470, 3, 47, 4273, 3883, 9, 282, 1740, 6363, 2795, 3, 108, 80, 2]\n"
     ]
    }
   ],
   "source": [
    "index = 1\n",
    "print(comments[index])\n",
    "print(sequences[index])"
   ]
  },
  {
   "cell_type": "code",
   "execution_count": 332,
   "metadata": {
    "ExecuteTime": {
     "end_time": "2023-03-24T10:47:05.620057Z",
     "start_time": "2023-03-24T10:47:05.614771Z"
    },
    "colab": {
     "base_uri": "https://localhost:8080/",
     "height": 34
    },
    "hidden": true,
    "id": "sQn0O5kBtmyJ",
    "outputId": "7b95cea4-c99b-42a0-9f9d-8dcc66a71441"
   },
   "outputs": [
    {
     "data": {
      "text/plain": [
       "12990"
      ]
     },
     "execution_count": 332,
     "metadata": {},
     "output_type": "execute_result"
    }
   ],
   "source": [
    "tokenizer.word_index['ставкой']"
   ]
  },
  {
   "cell_type": "markdown",
   "metadata": {
    "hidden": true,
    "id": "neSZfrw3OYPx"
   },
   "source": [
    "Ограничиваем длину отзывов"
   ]
  },
  {
   "cell_type": "code",
   "execution_count": 333,
   "metadata": {
    "ExecuteTime": {
     "end_time": "2023-03-24T10:47:14.827099Z",
     "start_time": "2023-03-24T10:47:14.810960Z"
    },
    "hidden": true,
    "id": "ZGLpcETkN3ex"
   },
   "outputs": [],
   "source": [
    "x_train = pad_sequences(sequences, maxlen=max_comment_len)"
   ]
  },
  {
   "cell_type": "code",
   "execution_count": 334,
   "metadata": {
    "ExecuteTime": {
     "end_time": "2023-03-24T10:47:20.428704Z",
     "start_time": "2023-03-24T10:47:20.423238Z"
    },
    "colab": {
     "base_uri": "https://localhost:8080/",
     "height": 446
    },
    "hidden": true,
    "id": "mPW1VACmOrrm",
    "outputId": "3231344e-3ab9-4138-a716-df7b7007f4ae",
    "scrolled": true
   },
   "outputs": [
    {
     "data": {
      "text/plain": [
       "array([[   0,    0,    0,    0,    2,    4,    4,   82,    5,  243,  147,\n",
       "        4763,  508, 1739, 9368,    5, 6357, 7520,  558, 1814, 4764,  159,\n",
       "        6358, 3267,    3,  328,    2,    2,    4,   44,    4,    2,    6,\n",
       "           1, 1501,  931,    1,    1,  731,   16,  123,  598,  598, 9369,\n",
       "           3, 1142,    1,    1,   34,    5, 1565,  130, 3267, 4266,    1,\n",
       "           1,  176,   48,  495,    1,    6,    2,    4,   41,    4,    2,\n",
       "           6,    1,   15,   19,  297,    1,    1,    8,   16,   49,   55,\n",
       "           1,    6,    2,    4, 1566,    4,    2,    6,    1, 4765, 2288,\n",
       "           5,   23,    3,  607, 2435,  415,    5,  243,    1,    6,    2,\n",
       "           2],\n",
       "       [  23, 3551,  266,    2,    2,  933,    5,  715,   16,  151, 6362,\n",
       "         402, 1452,    5, 1342,    2,    2,    4,   27, 4270, 4767,   70,\n",
       "        4271, 3881,    5, 1036,  151, 2292,   42,  548,  549,  151, 1266,\n",
       "        5534,  287,    4,    2,    2,    9, 1503, 5535, 9385, 4272,  934,\n",
       "         309, 1037,  384,  862,  101,   11,  352,    2,    2,    7,  314,\n",
       "        1037,    3, 9386,    2,    2, 9372,  682, 2165,  205,  159, 1174,\n",
       "        7529,    5, 9387,    3,  139, 5536,    9,  672,   76,    3, 3882,\n",
       "           2,    2,   13, 4273,  639, 5537,    9,  282, 1616,  470,    3,\n",
       "          47, 4273, 3883,    9,  282, 1740, 6363, 2795,    3,  108,   80,\n",
       "           2],\n",
       "       [   7,  297,    1,    1,   28,  121,    9,  111, 7530, 1742,  532,\n",
       "           1,    1,  192,   15,   36,    3,   28,   93,  403,  206,    1,\n",
       "           1,    8,  201, 1666,  775, 1224,   36,    1,    1,  302, 1074,\n",
       "           3, 6364,  649, 1012,    1,    6,    4,   13,   81,    4,    6,\n",
       "           1,  106,   12,  102,   76,    1,    1,   34,    5,  956, 1665,\n",
       "          23,    1,    1,   34,    5,   61,    7, 2437,  659,    1,    1,\n",
       "        2615,  628,    3, 1175,  471,    1,    1,   59,   10,   88,   49,\n",
       "           7,  386,  124,   64,  377,  124,    4, 1743, 2293,  550,  205,\n",
       "          10,  234,   59,    4,    1,    1, 3552,    5,  987, 6365,    1,\n",
       "           6]], dtype=int32)"
      ]
     },
     "execution_count": 334,
     "metadata": {},
     "output_type": "execute_result"
    }
   ],
   "source": [
    "x_train[:3]"
   ]
  },
  {
   "cell_type": "markdown",
   "metadata": {
    "id": "VFUTMuKL8SNY"
   },
   "source": [
    "## Cеть LSTM"
   ]
  },
  {
   "cell_type": "code",
   "execution_count": 340,
   "metadata": {
    "ExecuteTime": {
     "end_time": "2023-03-24T10:52:16.290262Z",
     "start_time": "2023-03-24T10:52:15.877498Z"
    },
    "id": "s_ZqIgqS8SNa",
    "scrolled": true
   },
   "outputs": [
    {
     "name": "stderr",
     "output_type": "stream",
     "text": [
      "2023-03-24 13:52:16.098639: I tensorflow/core/common_runtime/executor.cc:1197] [/device:CPU:0] (DEBUG INFO) Executor start aborting (this does not indicate an error and you can ignore this message): INVALID_ARGUMENT: You must feed a value for placeholder tensor 'gradients/split_2_grad/concat/split_2/split_dim' with dtype int32\n",
      "\t [[{{node gradients/split_2_grad/concat/split_2/split_dim}}]]\n",
      "2023-03-24 13:52:16.100611: I tensorflow/core/common_runtime/executor.cc:1197] [/device:CPU:0] (DEBUG INFO) Executor start aborting (this does not indicate an error and you can ignore this message): INVALID_ARGUMENT: You must feed a value for placeholder tensor 'gradients/split_grad/concat/split/split_dim' with dtype int32\n",
      "\t [[{{node gradients/split_grad/concat/split/split_dim}}]]\n",
      "2023-03-24 13:52:16.101567: I tensorflow/core/common_runtime/executor.cc:1197] [/device:CPU:0] (DEBUG INFO) Executor start aborting (this does not indicate an error and you can ignore this message): INVALID_ARGUMENT: You must feed a value for placeholder tensor 'gradients/split_1_grad/concat/split_1/split_dim' with dtype int32\n",
      "\t [[{{node gradients/split_1_grad/concat/split_1/split_dim}}]]\n",
      "2023-03-24 13:52:16.261905: I tensorflow/core/common_runtime/executor.cc:1197] [/device:CPU:0] (DEBUG INFO) Executor start aborting (this does not indicate an error and you can ignore this message): INVALID_ARGUMENT: You must feed a value for placeholder tensor 'gradients/split_2_grad/concat/split_2/split_dim' with dtype int32\n",
      "\t [[{{node gradients/split_2_grad/concat/split_2/split_dim}}]]\n",
      "2023-03-24 13:52:16.263233: I tensorflow/core/common_runtime/executor.cc:1197] [/device:CPU:0] (DEBUG INFO) Executor start aborting (this does not indicate an error and you can ignore this message): INVALID_ARGUMENT: You must feed a value for placeholder tensor 'gradients/split_grad/concat/split/split_dim' with dtype int32\n",
      "\t [[{{node gradients/split_grad/concat/split/split_dim}}]]\n",
      "2023-03-24 13:52:16.264419: I tensorflow/core/common_runtime/executor.cc:1197] [/device:CPU:0] (DEBUG INFO) Executor start aborting (this does not indicate an error and you can ignore this message): INVALID_ARGUMENT: You must feed a value for placeholder tensor 'gradients/split_1_grad/concat/split_1/split_dim' with dtype int32\n",
      "\t [[{{node gradients/split_1_grad/concat/split_1/split_dim}}]]\n"
     ]
    }
   ],
   "source": [
    "model_lstm = Sequential()\n",
    "model_lstm.add(Embedding(num_words, 128, input_length=max_comment_len))\n",
    "model_lstm.add(SpatialDropout1D(0.5))\n",
    "model_lstm.add(LSTM(40, return_sequences=True))\n",
    "model_lstm.add(LSTM(40))\n",
    "model_lstm.add(Dense(10, activation='sigmoid'))"
   ]
  },
  {
   "cell_type": "code",
   "execution_count": 341,
   "metadata": {
    "ExecuteTime": {
     "end_time": "2023-03-24T10:52:19.250279Z",
     "start_time": "2023-03-24T10:52:19.238851Z"
    },
    "id": "IoxJ8kNf8SNc"
   },
   "outputs": [],
   "source": [
    "model_lstm.compile(optimizer='adam', \n",
    "              loss='binary_crossentropy', \n",
    "              metrics=['accuracy', 'AUC'])"
   ]
  },
  {
   "cell_type": "code",
   "execution_count": 324,
   "metadata": {
    "ExecuteTime": {
     "end_time": "2023-03-24T10:44:46.174447Z",
     "start_time": "2023-03-24T10:44:46.171313Z"
    },
    "code_folding": [],
    "colab": {
     "base_uri": "https://localhost:8080/",
     "height": 326
    },
    "id": "KNc2OK3j8SNe",
    "outputId": "423b9b06-37d7-4874-d34c-5d137b6fa23b"
   },
   "outputs": [],
   "source": [
    "#model_lstm.summary()"
   ]
  },
  {
   "cell_type": "markdown",
   "metadata": {
    "id": "KzJtvcIa8SNh"
   },
   "source": [
    "### Создаем callback для сохранения нейронной сети на каждой эпохе, если качество работы на проверочном наборе данных улучшилось. Сеть сохраняется в файл `best_model.h5`"
   ]
  },
  {
   "cell_type": "code",
   "execution_count": 325,
   "metadata": {
    "ExecuteTime": {
     "end_time": "2023-03-24T10:44:47.499656Z",
     "start_time": "2023-03-24T10:44:47.496223Z"
    },
    "code_folding": [],
    "id": "qCu0Xlyj8SNi"
   },
   "outputs": [],
   "source": [
    "model_lstm_save_path = 'best_model_lstm.h5'\n",
    "checkpoint_callback_lstm = ModelCheckpoint(model_lstm_save_path, \n",
    "                                      monitor='val_accuracy',\n",
    "                                      save_best_only=True,\n",
    "                                      verbose=1)"
   ]
  },
  {
   "cell_type": "code",
   "execution_count": 342,
   "metadata": {
    "ExecuteTime": {
     "end_time": "2023-03-24T10:52:33.998935Z",
     "start_time": "2023-03-24T10:52:23.077068Z"
    },
    "colab": {
     "base_uri": "https://localhost:8080/",
     "height": 431
    },
    "id": "znNeO0lO8SNk",
    "outputId": "7ccf222f-865a-45b2-ac70-80da905d0919",
    "scrolled": true
   },
   "outputs": [
    {
     "name": "stdout",
     "output_type": "stream",
     "text": [
      "Epoch 1/5\n"
     ]
    },
    {
     "name": "stderr",
     "output_type": "stream",
     "text": [
      "2023-03-24 13:52:23.390506: I tensorflow/core/common_runtime/executor.cc:1197] [/device:CPU:0] (DEBUG INFO) Executor start aborting (this does not indicate an error and you can ignore this message): INVALID_ARGUMENT: You must feed a value for placeholder tensor 'gradients/split_2_grad/concat/split_2/split_dim' with dtype int32\n",
      "\t [[{{node gradients/split_2_grad/concat/split_2/split_dim}}]]\n",
      "2023-03-24 13:52:23.391778: I tensorflow/core/common_runtime/executor.cc:1197] [/device:CPU:0] (DEBUG INFO) Executor start aborting (this does not indicate an error and you can ignore this message): INVALID_ARGUMENT: You must feed a value for placeholder tensor 'gradients/split_grad/concat/split/split_dim' with dtype int32\n",
      "\t [[{{node gradients/split_grad/concat/split/split_dim}}]]\n",
      "2023-03-24 13:52:23.393177: I tensorflow/core/common_runtime/executor.cc:1197] [/device:CPU:0] (DEBUG INFO) Executor start aborting (this does not indicate an error and you can ignore this message): INVALID_ARGUMENT: You must feed a value for placeholder tensor 'gradients/split_1_grad/concat/split_1/split_dim' with dtype int32\n",
      "\t [[{{node gradients/split_1_grad/concat/split_1/split_dim}}]]\n",
      "2023-03-24 13:52:23.587700: I tensorflow/core/common_runtime/executor.cc:1197] [/device:CPU:0] (DEBUG INFO) Executor start aborting (this does not indicate an error and you can ignore this message): INVALID_ARGUMENT: You must feed a value for placeholder tensor 'gradients/split_2_grad/concat/split_2/split_dim' with dtype int32\n",
      "\t [[{{node gradients/split_2_grad/concat/split_2/split_dim}}]]\n",
      "2023-03-24 13:52:23.588986: I tensorflow/core/common_runtime/executor.cc:1197] [/device:CPU:0] (DEBUG INFO) Executor start aborting (this does not indicate an error and you can ignore this message): INVALID_ARGUMENT: You must feed a value for placeholder tensor 'gradients/split_grad/concat/split/split_dim' with dtype int32\n",
      "\t [[{{node gradients/split_grad/concat/split/split_dim}}]]\n",
      "2023-03-24 13:52:23.590077: I tensorflow/core/common_runtime/executor.cc:1197] [/device:CPU:0] (DEBUG INFO) Executor start aborting (this does not indicate an error and you can ignore this message): INVALID_ARGUMENT: You must feed a value for placeholder tensor 'gradients/split_1_grad/concat/split_1/split_dim' with dtype int32\n",
      "\t [[{{node gradients/split_1_grad/concat/split_1/split_dim}}]]\n",
      "2023-03-24 13:52:25.834522: I tensorflow/core/common_runtime/executor.cc:1197] [/device:CPU:0] (DEBUG INFO) Executor start aborting (this does not indicate an error and you can ignore this message): INVALID_ARGUMENT: You must feed a value for placeholder tensor 'gradients/split_2_grad/concat/split_2/split_dim' with dtype int32\n",
      "\t [[{{node gradients/split_2_grad/concat/split_2/split_dim}}]]\n",
      "2023-03-24 13:52:25.837241: I tensorflow/core/common_runtime/executor.cc:1197] [/device:CPU:0] (DEBUG INFO) Executor start aborting (this does not indicate an error and you can ignore this message): INVALID_ARGUMENT: You must feed a value for placeholder tensor 'gradients/split_grad/concat/split/split_dim' with dtype int32\n",
      "\t [[{{node gradients/split_grad/concat/split/split_dim}}]]\n",
      "2023-03-24 13:52:25.839627: I tensorflow/core/common_runtime/executor.cc:1197] [/device:CPU:0] (DEBUG INFO) Executor start aborting (this does not indicate an error and you can ignore this message): INVALID_ARGUMENT: You must feed a value for placeholder tensor 'gradients/split_1_grad/concat/split_1/split_dim' with dtype int32\n",
      "\t [[{{node gradients/split_1_grad/concat/split_1/split_dim}}]]\n",
      "2023-03-24 13:52:26.143224: I tensorflow/core/common_runtime/executor.cc:1197] [/device:CPU:0] (DEBUG INFO) Executor start aborting (this does not indicate an error and you can ignore this message): INVALID_ARGUMENT: You must feed a value for placeholder tensor 'gradients/split_2_grad/concat/split_2/split_dim' with dtype int32\n",
      "\t [[{{node gradients/split_2_grad/concat/split_2/split_dim}}]]\n",
      "2023-03-24 13:52:26.145266: I tensorflow/core/common_runtime/executor.cc:1197] [/device:CPU:0] (DEBUG INFO) Executor start aborting (this does not indicate an error and you can ignore this message): INVALID_ARGUMENT: You must feed a value for placeholder tensor 'gradients/split_grad/concat/split/split_dim' with dtype int32\n",
      "\t [[{{node gradients/split_grad/concat/split/split_dim}}]]\n",
      "2023-03-24 13:52:26.149776: I tensorflow/core/common_runtime/executor.cc:1197] [/device:CPU:0] (DEBUG INFO) Executor start aborting (this does not indicate an error and you can ignore this message): INVALID_ARGUMENT: You must feed a value for placeholder tensor 'gradients/split_1_grad/concat/split_1/split_dim' with dtype int32\n",
      "\t [[{{node gradients/split_1_grad/concat/split_1/split_dim}}]]\n"
     ]
    },
    {
     "name": "stdout",
     "output_type": "stream",
     "text": [
      "2/2 [==============================] - ETA: 0s - loss: 0.6918 - accuracy: 0.1091 - auc: 0.5527"
     ]
    },
    {
     "name": "stderr",
     "output_type": "stream",
     "text": [
      "2023-03-24 13:52:28.839257: I tensorflow/core/common_runtime/executor.cc:1197] [/device:CPU:0] (DEBUG INFO) Executor start aborting (this does not indicate an error and you can ignore this message): INVALID_ARGUMENT: You must feed a value for placeholder tensor 'gradients/split_2_grad/concat/split_2/split_dim' with dtype int32\n",
      "\t [[{{node gradients/split_2_grad/concat/split_2/split_dim}}]]\n",
      "2023-03-24 13:52:28.842130: I tensorflow/core/common_runtime/executor.cc:1197] [/device:CPU:0] (DEBUG INFO) Executor start aborting (this does not indicate an error and you can ignore this message): INVALID_ARGUMENT: You must feed a value for placeholder tensor 'gradients/split_grad/concat/split/split_dim' with dtype int32\n",
      "\t [[{{node gradients/split_grad/concat/split/split_dim}}]]\n",
      "2023-03-24 13:52:28.843630: I tensorflow/core/common_runtime/executor.cc:1197] [/device:CPU:0] (DEBUG INFO) Executor start aborting (this does not indicate an error and you can ignore this message): INVALID_ARGUMENT: You must feed a value for placeholder tensor 'gradients/split_1_grad/concat/split_1/split_dim' with dtype int32\n",
      "\t [[{{node gradients/split_1_grad/concat/split_1/split_dim}}]]\n",
      "2023-03-24 13:52:29.165245: I tensorflow/core/common_runtime/executor.cc:1197] [/device:CPU:0] (DEBUG INFO) Executor start aborting (this does not indicate an error and you can ignore this message): INVALID_ARGUMENT: You must feed a value for placeholder tensor 'gradients/split_2_grad/concat/split_2/split_dim' with dtype int32\n",
      "\t [[{{node gradients/split_2_grad/concat/split_2/split_dim}}]]\n",
      "2023-03-24 13:52:29.167167: I tensorflow/core/common_runtime/executor.cc:1197] [/device:CPU:0] (DEBUG INFO) Executor start aborting (this does not indicate an error and you can ignore this message): INVALID_ARGUMENT: You must feed a value for placeholder tensor 'gradients/split_grad/concat/split/split_dim' with dtype int32\n",
      "\t [[{{node gradients/split_grad/concat/split/split_dim}}]]\n",
      "2023-03-24 13:52:29.169433: I tensorflow/core/common_runtime/executor.cc:1197] [/device:CPU:0] (DEBUG INFO) Executor start aborting (this does not indicate an error and you can ignore this message): INVALID_ARGUMENT: You must feed a value for placeholder tensor 'gradients/split_1_grad/concat/split_1/split_dim' with dtype int32\n",
      "\t [[{{node gradients/split_1_grad/concat/split_1/split_dim}}]]\n"
     ]
    },
    {
     "name": "stdout",
     "output_type": "stream",
     "text": [
      "\n",
      "Epoch 1: val_accuracy improved from -inf to 0.20419, saving model to best_model_lstm.h5\n",
      "2/2 [==============================] - 7s 2s/step - loss: 0.6918 - accuracy: 0.1091 - auc: 0.5527 - val_loss: 0.6859 - val_accuracy: 0.2042 - val_auc: 0.6483\n",
      "Epoch 2/5\n",
      "2/2 [==============================] - ETA: 0s - loss: 0.6849 - accuracy: 0.2930 - auc: 0.6952\n",
      "Epoch 2: val_accuracy improved from 0.20419 to 0.28796, saving model to best_model_lstm.h5\n",
      "2/2 [==============================] - 1s 600ms/step - loss: 0.6849 - accuracy: 0.2930 - auc: 0.6952 - val_loss: 0.6769 - val_accuracy: 0.2880 - val_auc: 0.6938\n",
      "Epoch 3/5\n",
      "2/2 [==============================] - ETA: 0s - loss: 0.6756 - accuracy: 0.4428 - auc: 0.7141\n",
      "Epoch 3: val_accuracy improved from 0.28796 to 0.56545, saving model to best_model_lstm.h5\n",
      "2/2 [==============================] - 1s 588ms/step - loss: 0.6756 - accuracy: 0.4428 - auc: 0.7141 - val_loss: 0.6636 - val_accuracy: 0.5654 - val_auc: 0.6874\n",
      "Epoch 4/5\n",
      "2/2 [==============================] - ETA: 0s - loss: 0.6617 - accuracy: 0.5940 - auc: 0.7283\n",
      "Epoch 4: val_accuracy improved from 0.56545 to 0.80628, saving model to best_model_lstm.h5\n",
      "2/2 [==============================] - 1s 488ms/step - loss: 0.6617 - accuracy: 0.5940 - auc: 0.7283 - val_loss: 0.6431 - val_accuracy: 0.8063 - val_auc: 0.6934\n",
      "Epoch 5/5\n",
      "2/2 [==============================] - ETA: 0s - loss: 0.6408 - accuracy: 0.8160 - auc: 0.7294\n",
      "Epoch 5: val_accuracy did not improve from 0.80628\n",
      "2/2 [==============================] - 1s 368ms/step - loss: 0.6408 - accuracy: 0.8160 - auc: 0.7294 - val_loss: 0.6100 - val_accuracy: 0.8063 - val_auc: 0.6976\n"
     ]
    }
   ],
   "source": [
    "history_lstm = model_lstm.fit(x_train, \n",
    "                              y_train, \n",
    "                              epochs=5,\n",
    "                              batch_size=512,\n",
    "                              validation_split=0.2,\n",
    "                              callbacks=[checkpoint_callback_lstm])"
   ]
  },
  {
   "cell_type": "code",
   "execution_count": 343,
   "metadata": {
    "ExecuteTime": {
     "end_time": "2023-03-24T10:52:40.256019Z",
     "start_time": "2023-03-24T10:52:40.073486Z"
    },
    "colab": {
     "base_uri": "https://localhost:8080/",
     "height": 279
    },
    "id": "iFTVTtcM8SNm",
    "outputId": "723c869e-4ed1-4c37-95bb-aa4ef7e37b01",
    "scrolled": true
   },
   "outputs": [
    {
     "data": {
      "image/png": "[encoded data removed]",
      "text/plain": [
       "<Figure size 640x480 with 1 Axes>"
      ]
     },
     "metadata": {},
     "output_type": "display_data"
    }
   ],
   "source": [
    "plt.plot(history_lstm.history['accuracy'], \n",
    "         label='Доля верных ответов на обучающем наборе')\n",
    "plt.plot(history_lstm.history['val_accuracy'], \n",
    "         label='Доля верных ответов на проверочном наборе')\n",
    "plt.xlabel('Эпоха обучения')\n",
    "plt.ylabel('Доля верных ответов')\n",
    "plt.legend()\n",
    "plt.show()"
   ]
  },
  {
   "cell_type": "markdown",
   "metadata": {
    "id": "Ma51nugyR5Ct"
   },
   "source": [
    "## Загружаем набор данных для тестирования"
   ]
  },
  {
   "cell_type": "code",
   "execution_count": null,
   "metadata": {
    "id": "0OQ9iHYWYJ7G"
   },
   "outputs": [],
   "source": [
    "test_comments = pd.read_csv('test.csv')"
   ]
  },
  {
   "cell_type": "code",
   "execution_count": null,
   "metadata": {
    "colab": {
     "base_uri": "https://localhost:8080/",
     "height": 357
    },
    "id": "4W8Exe9nYYC6",
    "outputId": "de1d4abe-d2ba-407e-f7b4-a24940947d55"
   },
   "outputs": [
    {
     "data": {
      "text/html": [
       "<div>\n",
       "<style scoped>\n",
       "    .dataframe tbody tr th:only-of-type {\n",
       "        vertical-align: middle;\n",
       "    }\n",
       "\n",
       "    .dataframe tbody tr th {\n",
       "        vertical-align: top;\n",
       "    }\n",
       "\n",
       "    .dataframe thead th {\n",
       "        text-align: right;\n",
       "    }\n",
       "</style>\n",
       "<table border=\"1\" class=\"dataframe\">\n",
       "  <thead>\n",
       "    <tr style=\"text-align: right;\">\n",
       "      <th></th>\n",
       "      <th>id</th>\n",
       "      <th>comment_text</th>\n",
       "    </tr>\n",
       "  </thead>\n",
       "  <tbody>\n",
       "    <tr>\n",
       "      <th>0</th>\n",
       "      <td>00001cee341fdb12</td>\n",
       "      <td>Yo bitch Ja Rule is more succesful then you'll...</td>\n",
       "    </tr>\n",
       "    <tr>\n",
       "      <th>1</th>\n",
       "      <td>0000247867823ef7</td>\n",
       "      <td>== From RfC == \\n\\n The title is fine as it is...</td>\n",
       "    </tr>\n",
       "    <tr>\n",
       "      <th>2</th>\n",
       "      <td>00013b17ad220c46</td>\n",
       "      <td>\" \\n\\n == Sources == \\n\\n * Zawe Ashton on Lap...</td>\n",
       "    </tr>\n",
       "    <tr>\n",
       "      <th>3</th>\n",
       "      <td>00017563c3f7919a</td>\n",
       "      <td>:If you have a look back at the source, the in...</td>\n",
       "    </tr>\n",
       "    <tr>\n",
       "      <th>4</th>\n",
       "      <td>00017695ad8997eb</td>\n",
       "      <td>I don't anonymously edit articles at all.</td>\n",
       "    </tr>\n",
       "    <tr>\n",
       "      <th>5</th>\n",
       "      <td>0001ea8717f6de06</td>\n",
       "      <td>Thank you for understanding. I think very high...</td>\n",
       "    </tr>\n",
       "    <tr>\n",
       "      <th>6</th>\n",
       "      <td>00024115d4cbde0f</td>\n",
       "      <td>Please do not add nonsense to Wikipedia. Such ...</td>\n",
       "    </tr>\n",
       "    <tr>\n",
       "      <th>7</th>\n",
       "      <td>000247e83dcc1211</td>\n",
       "      <td>:Dear god this site is horrible.</td>\n",
       "    </tr>\n",
       "    <tr>\n",
       "      <th>8</th>\n",
       "      <td>00025358d4737918</td>\n",
       "      <td>\" \\n Only a fool can believe in such numbers. ...</td>\n",
       "    </tr>\n",
       "    <tr>\n",
       "      <th>9</th>\n",
       "      <td>00026d1092fe71cc</td>\n",
       "      <td>== Double Redirects == \\n\\n When fixing double...</td>\n",
       "    </tr>\n",
       "  </tbody>\n",
       "</table>\n",
       "</div>"
      ],
      "text/plain": [
       "                 id                                       comment_text\n",
       "0  00001cee341fdb12  Yo bitch Ja Rule is more succesful then you'll...\n",
       "1  0000247867823ef7  == From RfC == \\n\\n The title is fine as it is...\n",
       "2  00013b17ad220c46  \" \\n\\n == Sources == \\n\\n * Zawe Ashton on Lap...\n",
       "3  00017563c3f7919a  :If you have a look back at the source, the in...\n",
       "4  00017695ad8997eb          I don't anonymously edit articles at all.\n",
       "5  0001ea8717f6de06  Thank you for understanding. I think very high...\n",
       "6  00024115d4cbde0f  Please do not add nonsense to Wikipedia. Such ...\n",
       "7  000247e83dcc1211                   :Dear god this site is horrible.\n",
       "8  00025358d4737918  \" \\n Only a fool can believe in such numbers. ...\n",
       "9  00026d1092fe71cc  == Double Redirects == \\n\\n When fixing double..."
      ]
     },
     "execution_count": 48,
     "metadata": {
      "tags": []
     },
     "output_type": "execute_result"
    }
   ],
   "source": [
    "test_comments[:10]"
   ]
  },
  {
   "cell_type": "code",
   "execution_count": null,
   "metadata": {
    "id": "-kLrcGnBUYwo"
   },
   "outputs": [],
   "source": [
    "test_labels = pd.read_csv('test_labels.csv')"
   ]
  },
  {
   "cell_type": "code",
   "execution_count": null,
   "metadata": {
    "colab": {
     "base_uri": "https://localhost:8080/",
     "height": 357
    },
    "id": "o6aoulb_Uh6O",
    "outputId": "79907572-27a7-4a27-a8ff-d1c3d0481c3c"
   },
   "outputs": [
    {
     "data": {
      "text/html": [
       "<div>\n",
       "<style scoped>\n",
       "    .dataframe tbody tr th:only-of-type {\n",
       "        vertical-align: middle;\n",
       "    }\n",
       "\n",
       "    .dataframe tbody tr th {\n",
       "        vertical-align: top;\n",
       "    }\n",
       "\n",
       "    .dataframe thead th {\n",
       "        text-align: right;\n",
       "    }\n",
       "</style>\n",
       "<table border=\"1\" class=\"dataframe\">\n",
       "  <thead>\n",
       "    <tr style=\"text-align: right;\">\n",
       "      <th></th>\n",
       "      <th>id</th>\n",
       "      <th>toxic</th>\n",
       "      <th>severe_toxic</th>\n",
       "      <th>obscene</th>\n",
       "      <th>threat</th>\n",
       "      <th>insult</th>\n",
       "      <th>identity_hate</th>\n",
       "    </tr>\n",
       "  </thead>\n",
       "  <tbody>\n",
       "    <tr>\n",
       "      <th>0</th>\n",
       "      <td>00001cee341fdb12</td>\n",
       "      <td>-1</td>\n",
       "      <td>-1</td>\n",
       "      <td>-1</td>\n",
       "      <td>-1</td>\n",
       "      <td>-1</td>\n",
       "      <td>-1</td>\n",
       "    </tr>\n",
       "    <tr>\n",
       "      <th>1</th>\n",
       "      <td>0000247867823ef7</td>\n",
       "      <td>-1</td>\n",
       "      <td>-1</td>\n",
       "      <td>-1</td>\n",
       "      <td>-1</td>\n",
       "      <td>-1</td>\n",
       "      <td>-1</td>\n",
       "    </tr>\n",
       "    <tr>\n",
       "      <th>2</th>\n",
       "      <td>00013b17ad220c46</td>\n",
       "      <td>-1</td>\n",
       "      <td>-1</td>\n",
       "      <td>-1</td>\n",
       "      <td>-1</td>\n",
       "      <td>-1</td>\n",
       "      <td>-1</td>\n",
       "    </tr>\n",
       "    <tr>\n",
       "      <th>3</th>\n",
       "      <td>00017563c3f7919a</td>\n",
       "      <td>-1</td>\n",
       "      <td>-1</td>\n",
       "      <td>-1</td>\n",
       "      <td>-1</td>\n",
       "      <td>-1</td>\n",
       "      <td>-1</td>\n",
       "    </tr>\n",
       "    <tr>\n",
       "      <th>4</th>\n",
       "      <td>00017695ad8997eb</td>\n",
       "      <td>-1</td>\n",
       "      <td>-1</td>\n",
       "      <td>-1</td>\n",
       "      <td>-1</td>\n",
       "      <td>-1</td>\n",
       "      <td>-1</td>\n",
       "    </tr>\n",
       "    <tr>\n",
       "      <th>5</th>\n",
       "      <td>0001ea8717f6de06</td>\n",
       "      <td>0</td>\n",
       "      <td>0</td>\n",
       "      <td>0</td>\n",
       "      <td>0</td>\n",
       "      <td>0</td>\n",
       "      <td>0</td>\n",
       "    </tr>\n",
       "    <tr>\n",
       "      <th>6</th>\n",
       "      <td>00024115d4cbde0f</td>\n",
       "      <td>-1</td>\n",
       "      <td>-1</td>\n",
       "      <td>-1</td>\n",
       "      <td>-1</td>\n",
       "      <td>-1</td>\n",
       "      <td>-1</td>\n",
       "    </tr>\n",
       "    <tr>\n",
       "      <th>7</th>\n",
       "      <td>000247e83dcc1211</td>\n",
       "      <td>0</td>\n",
       "      <td>0</td>\n",
       "      <td>0</td>\n",
       "      <td>0</td>\n",
       "      <td>0</td>\n",
       "      <td>0</td>\n",
       "    </tr>\n",
       "    <tr>\n",
       "      <th>8</th>\n",
       "      <td>00025358d4737918</td>\n",
       "      <td>-1</td>\n",
       "      <td>-1</td>\n",
       "      <td>-1</td>\n",
       "      <td>-1</td>\n",
       "      <td>-1</td>\n",
       "      <td>-1</td>\n",
       "    </tr>\n",
       "    <tr>\n",
       "      <th>9</th>\n",
       "      <td>00026d1092fe71cc</td>\n",
       "      <td>-1</td>\n",
       "      <td>-1</td>\n",
       "      <td>-1</td>\n",
       "      <td>-1</td>\n",
       "      <td>-1</td>\n",
       "      <td>-1</td>\n",
       "    </tr>\n",
       "  </tbody>\n",
       "</table>\n",
       "</div>"
      ],
      "text/plain": [
       "                 id  toxic  severe_toxic  ...  threat  insult  identity_hate\n",
       "0  00001cee341fdb12     -1            -1  ...      -1      -1             -1\n",
       "1  0000247867823ef7     -1            -1  ...      -1      -1             -1\n",
       "2  00013b17ad220c46     -1            -1  ...      -1      -1             -1\n",
       "3  00017563c3f7919a     -1            -1  ...      -1      -1             -1\n",
       "4  00017695ad8997eb     -1            -1  ...      -1      -1             -1\n",
       "5  0001ea8717f6de06      0             0  ...       0       0              0\n",
       "6  00024115d4cbde0f     -1            -1  ...      -1      -1             -1\n",
       "7  000247e83dcc1211      0             0  ...       0       0              0\n",
       "8  00025358d4737918     -1            -1  ...      -1      -1             -1\n",
       "9  00026d1092fe71cc     -1            -1  ...      -1      -1             -1\n",
       "\n",
       "[10 rows x 7 columns]"
      ]
     },
     "execution_count": 50,
     "metadata": {
      "tags": []
     },
     "output_type": "execute_result"
    }
   ],
   "source": [
    "test_labels[:10]"
   ]
  },
  {
   "cell_type": "code",
   "execution_count": null,
   "metadata": {
    "id": "QsnX-eJqUyyY"
   },
   "outputs": [],
   "source": [
    "test_full = pd.merge(test_comments, test_labels, on='id')"
   ]
  },
  {
   "cell_type": "code",
   "execution_count": null,
   "metadata": {
    "colab": {
     "base_uri": "https://localhost:8080/",
     "height": 434
    },
    "id": "DNj9wMmkWDSG",
    "outputId": "5d16024c-ea39-4801-9756-d9f80f008a9e"
   },
   "outputs": [
    {
     "data": {
      "text/html": [
       "<div>\n",
       "<style scoped>\n",
       "    .dataframe tbody tr th:only-of-type {\n",
       "        vertical-align: middle;\n",
       "    }\n",
       "\n",
       "    .dataframe tbody tr th {\n",
       "        vertical-align: top;\n",
       "    }\n",
       "\n",
       "    .dataframe thead th {\n",
       "        text-align: right;\n",
       "    }\n",
       "</style>\n",
       "<table border=\"1\" class=\"dataframe\">\n",
       "  <thead>\n",
       "    <tr style=\"text-align: right;\">\n",
       "      <th></th>\n",
       "      <th>id</th>\n",
       "      <th>comment_text</th>\n",
       "      <th>toxic</th>\n",
       "      <th>severe_toxic</th>\n",
       "      <th>obscene</th>\n",
       "      <th>threat</th>\n",
       "      <th>insult</th>\n",
       "      <th>identity_hate</th>\n",
       "    </tr>\n",
       "  </thead>\n",
       "  <tbody>\n",
       "    <tr>\n",
       "      <th>0</th>\n",
       "      <td>00001cee341fdb12</td>\n",
       "      <td>Yo bitch Ja Rule is more succesful then you'll...</td>\n",
       "      <td>-1</td>\n",
       "      <td>-1</td>\n",
       "      <td>-1</td>\n",
       "      <td>-1</td>\n",
       "      <td>-1</td>\n",
       "      <td>-1</td>\n",
       "    </tr>\n",
       "    <tr>\n",
       "      <th>1</th>\n",
       "      <td>0000247867823ef7</td>\n",
       "      <td>== From RfC == \\n\\n The title is fine as it is...</td>\n",
       "      <td>-1</td>\n",
       "      <td>-1</td>\n",
       "      <td>-1</td>\n",
       "      <td>-1</td>\n",
       "      <td>-1</td>\n",
       "      <td>-1</td>\n",
       "    </tr>\n",
       "    <tr>\n",
       "      <th>2</th>\n",
       "      <td>00013b17ad220c46</td>\n",
       "      <td>\" \\n\\n == Sources == \\n\\n * Zawe Ashton on Lap...</td>\n",
       "      <td>-1</td>\n",
       "      <td>-1</td>\n",
       "      <td>-1</td>\n",
       "      <td>-1</td>\n",
       "      <td>-1</td>\n",
       "      <td>-1</td>\n",
       "    </tr>\n",
       "    <tr>\n",
       "      <th>3</th>\n",
       "      <td>00017563c3f7919a</td>\n",
       "      <td>:If you have a look back at the source, the in...</td>\n",
       "      <td>-1</td>\n",
       "      <td>-1</td>\n",
       "      <td>-1</td>\n",
       "      <td>-1</td>\n",
       "      <td>-1</td>\n",
       "      <td>-1</td>\n",
       "    </tr>\n",
       "    <tr>\n",
       "      <th>4</th>\n",
       "      <td>00017695ad8997eb</td>\n",
       "      <td>I don't anonymously edit articles at all.</td>\n",
       "      <td>-1</td>\n",
       "      <td>-1</td>\n",
       "      <td>-1</td>\n",
       "      <td>-1</td>\n",
       "      <td>-1</td>\n",
       "      <td>-1</td>\n",
       "    </tr>\n",
       "    <tr>\n",
       "      <th>...</th>\n",
       "      <td>...</td>\n",
       "      <td>...</td>\n",
       "      <td>...</td>\n",
       "      <td>...</td>\n",
       "      <td>...</td>\n",
       "      <td>...</td>\n",
       "      <td>...</td>\n",
       "      <td>...</td>\n",
       "    </tr>\n",
       "    <tr>\n",
       "      <th>153159</th>\n",
       "      <td>fffcd0960ee309b5</td>\n",
       "      <td>. \\n i totally agree, this stuff is nothing bu...</td>\n",
       "      <td>-1</td>\n",
       "      <td>-1</td>\n",
       "      <td>-1</td>\n",
       "      <td>-1</td>\n",
       "      <td>-1</td>\n",
       "      <td>-1</td>\n",
       "    </tr>\n",
       "    <tr>\n",
       "      <th>153160</th>\n",
       "      <td>fffd7a9a6eb32c16</td>\n",
       "      <td>== Throw from out field to home plate. == \\n\\n...</td>\n",
       "      <td>-1</td>\n",
       "      <td>-1</td>\n",
       "      <td>-1</td>\n",
       "      <td>-1</td>\n",
       "      <td>-1</td>\n",
       "      <td>-1</td>\n",
       "    </tr>\n",
       "    <tr>\n",
       "      <th>153161</th>\n",
       "      <td>fffda9e8d6fafa9e</td>\n",
       "      <td>\" \\n\\n == Okinotorishima categories == \\n\\n I ...</td>\n",
       "      <td>-1</td>\n",
       "      <td>-1</td>\n",
       "      <td>-1</td>\n",
       "      <td>-1</td>\n",
       "      <td>-1</td>\n",
       "      <td>-1</td>\n",
       "    </tr>\n",
       "    <tr>\n",
       "      <th>153162</th>\n",
       "      <td>fffe8f1340a79fc2</td>\n",
       "      <td>\" \\n\\n == \"\"One of the founding nations of the...</td>\n",
       "      <td>-1</td>\n",
       "      <td>-1</td>\n",
       "      <td>-1</td>\n",
       "      <td>-1</td>\n",
       "      <td>-1</td>\n",
       "      <td>-1</td>\n",
       "    </tr>\n",
       "    <tr>\n",
       "      <th>153163</th>\n",
       "      <td>ffffce3fb183ee80</td>\n",
       "      <td>\" \\n :::Stop already. Your bullshit is not wel...</td>\n",
       "      <td>-1</td>\n",
       "      <td>-1</td>\n",
       "      <td>-1</td>\n",
       "      <td>-1</td>\n",
       "      <td>-1</td>\n",
       "      <td>-1</td>\n",
       "    </tr>\n",
       "  </tbody>\n",
       "</table>\n",
       "<p>153164 rows × 8 columns</p>\n",
       "</div>"
      ],
      "text/plain": [
       "                      id  ... identity_hate\n",
       "0       00001cee341fdb12  ...            -1\n",
       "1       0000247867823ef7  ...            -1\n",
       "2       00013b17ad220c46  ...            -1\n",
       "3       00017563c3f7919a  ...            -1\n",
       "4       00017695ad8997eb  ...            -1\n",
       "...                  ...  ...           ...\n",
       "153159  fffcd0960ee309b5  ...            -1\n",
       "153160  fffd7a9a6eb32c16  ...            -1\n",
       "153161  fffda9e8d6fafa9e  ...            -1\n",
       "153162  fffe8f1340a79fc2  ...            -1\n",
       "153163  ffffce3fb183ee80  ...            -1\n",
       "\n",
       "[153164 rows x 8 columns]"
      ]
     },
     "execution_count": 58,
     "metadata": {
      "tags": []
     },
     "output_type": "execute_result"
    }
   ],
   "source": [
    "test_full"
   ]
  },
  {
   "cell_type": "code",
   "execution_count": null,
   "metadata": {
    "id": "ixakEYVyVaWV"
   },
   "outputs": [],
   "source": [
    "test = test_full[test_full['toxic']!=-1]"
   ]
  },
  {
   "cell_type": "code",
   "execution_count": null,
   "metadata": {
    "colab": {
     "base_uri": "https://localhost:8080/",
     "height": 486
    },
    "id": "6jvWJXHBWC34",
    "outputId": "1fc4ebf3-2b17-4a1d-af8a-1513e943389e"
   },
   "outputs": [
    {
     "data": {
      "text/html": [
       "<div>\n",
       "<style scoped>\n",
       "    .dataframe tbody tr th:only-of-type {\n",
       "        vertical-align: middle;\n",
       "    }\n",
       "\n",
       "    .dataframe tbody tr th {\n",
       "        vertical-align: top;\n",
       "    }\n",
       "\n",
       "    .dataframe thead th {\n",
       "        text-align: right;\n",
       "    }\n",
       "</style>\n",
       "<table border=\"1\" class=\"dataframe\">\n",
       "  <thead>\n",
       "    <tr style=\"text-align: right;\">\n",
       "      <th></th>\n",
       "      <th>id</th>\n",
       "      <th>comment_text</th>\n",
       "      <th>toxic</th>\n",
       "      <th>severe_toxic</th>\n",
       "      <th>obscene</th>\n",
       "      <th>threat</th>\n",
       "      <th>insult</th>\n",
       "      <th>identity_hate</th>\n",
       "    </tr>\n",
       "  </thead>\n",
       "  <tbody>\n",
       "    <tr>\n",
       "      <th>5</th>\n",
       "      <td>0001ea8717f6de06</td>\n",
       "      <td>Thank you for understanding. I think very high...</td>\n",
       "      <td>0</td>\n",
       "      <td>0</td>\n",
       "      <td>0</td>\n",
       "      <td>0</td>\n",
       "      <td>0</td>\n",
       "      <td>0</td>\n",
       "    </tr>\n",
       "    <tr>\n",
       "      <th>7</th>\n",
       "      <td>000247e83dcc1211</td>\n",
       "      <td>:Dear god this site is horrible.</td>\n",
       "      <td>0</td>\n",
       "      <td>0</td>\n",
       "      <td>0</td>\n",
       "      <td>0</td>\n",
       "      <td>0</td>\n",
       "      <td>0</td>\n",
       "    </tr>\n",
       "    <tr>\n",
       "      <th>11</th>\n",
       "      <td>0002f87b16116a7f</td>\n",
       "      <td>\"::: Somebody will invariably try to add Relig...</td>\n",
       "      <td>0</td>\n",
       "      <td>0</td>\n",
       "      <td>0</td>\n",
       "      <td>0</td>\n",
       "      <td>0</td>\n",
       "      <td>0</td>\n",
       "    </tr>\n",
       "    <tr>\n",
       "      <th>13</th>\n",
       "      <td>0003e1cccfd5a40a</td>\n",
       "      <td>\" \\n\\n It says it right there that it IS a typ...</td>\n",
       "      <td>0</td>\n",
       "      <td>0</td>\n",
       "      <td>0</td>\n",
       "      <td>0</td>\n",
       "      <td>0</td>\n",
       "      <td>0</td>\n",
       "    </tr>\n",
       "    <tr>\n",
       "      <th>14</th>\n",
       "      <td>00059ace3e3e9a53</td>\n",
       "      <td>\" \\n\\n == Before adding a new product to the l...</td>\n",
       "      <td>0</td>\n",
       "      <td>0</td>\n",
       "      <td>0</td>\n",
       "      <td>0</td>\n",
       "      <td>0</td>\n",
       "      <td>0</td>\n",
       "    </tr>\n",
       "    <tr>\n",
       "      <th>...</th>\n",
       "      <td>...</td>\n",
       "      <td>...</td>\n",
       "      <td>...</td>\n",
       "      <td>...</td>\n",
       "      <td>...</td>\n",
       "      <td>...</td>\n",
       "      <td>...</td>\n",
       "      <td>...</td>\n",
       "    </tr>\n",
       "    <tr>\n",
       "      <th>153150</th>\n",
       "      <td>fff8f64043129fa2</td>\n",
       "      <td>:Jerome, I see you never got around to this…! ...</td>\n",
       "      <td>0</td>\n",
       "      <td>0</td>\n",
       "      <td>0</td>\n",
       "      <td>0</td>\n",
       "      <td>0</td>\n",
       "      <td>0</td>\n",
       "    </tr>\n",
       "    <tr>\n",
       "      <th>153151</th>\n",
       "      <td>fff9d70fe0722906</td>\n",
       "      <td>==Lucky bastard== \\n http://wikimediafoundatio...</td>\n",
       "      <td>0</td>\n",
       "      <td>0</td>\n",
       "      <td>0</td>\n",
       "      <td>0</td>\n",
       "      <td>0</td>\n",
       "      <td>0</td>\n",
       "    </tr>\n",
       "    <tr>\n",
       "      <th>153154</th>\n",
       "      <td>fffa8a11c4378854</td>\n",
       "      <td>==shame on you all!!!== \\n\\n You want to speak...</td>\n",
       "      <td>0</td>\n",
       "      <td>0</td>\n",
       "      <td>0</td>\n",
       "      <td>0</td>\n",
       "      <td>0</td>\n",
       "      <td>0</td>\n",
       "    </tr>\n",
       "    <tr>\n",
       "      <th>153155</th>\n",
       "      <td>fffac2a094c8e0e2</td>\n",
       "      <td>MEL GIBSON IS A NAZI BITCH WHO MAKES SHITTY MO...</td>\n",
       "      <td>1</td>\n",
       "      <td>0</td>\n",
       "      <td>1</td>\n",
       "      <td>0</td>\n",
       "      <td>1</td>\n",
       "      <td>0</td>\n",
       "    </tr>\n",
       "    <tr>\n",
       "      <th>153156</th>\n",
       "      <td>fffb5451268fb5ba</td>\n",
       "      <td>\" \\n\\n == Unicorn lair discovery == \\n\\n Suppo...</td>\n",
       "      <td>0</td>\n",
       "      <td>0</td>\n",
       "      <td>0</td>\n",
       "      <td>0</td>\n",
       "      <td>0</td>\n",
       "      <td>0</td>\n",
       "    </tr>\n",
       "  </tbody>\n",
       "</table>\n",
       "<p>63978 rows × 8 columns</p>\n",
       "</div>"
      ],
      "text/plain": [
       "                      id  ... identity_hate\n",
       "5       0001ea8717f6de06  ...             0\n",
       "7       000247e83dcc1211  ...             0\n",
       "11      0002f87b16116a7f  ...             0\n",
       "13      0003e1cccfd5a40a  ...             0\n",
       "14      00059ace3e3e9a53  ...             0\n",
       "...                  ...  ...           ...\n",
       "153150  fff8f64043129fa2  ...             0\n",
       "153151  fff9d70fe0722906  ...             0\n",
       "153154  fffa8a11c4378854  ...             0\n",
       "153155  fffac2a094c8e0e2  ...             0\n",
       "153156  fffb5451268fb5ba  ...             0\n",
       "\n",
       "[63978 rows x 8 columns]"
      ]
     },
     "execution_count": 59,
     "metadata": {
      "tags": []
     },
     "output_type": "execute_result"
    }
   ],
   "source": [
    "test"
   ]
  },
  {
   "cell_type": "markdown",
   "metadata": {
    "id": "xgEjSpX5biaJ"
   },
   "source": [
    "Преобразуем комментарии в числовое представление\n",
    "\n",
    "Обратите внимание, что нужно использовать токенизатор, обученный на наборе данных train."
   ]
  },
  {
   "cell_type": "code",
   "execution_count": null,
   "metadata": {
    "id": "wE8JtIgybvLx"
   },
   "outputs": [],
   "source": [
    "test_sequences = tokenizer.texts_to_sequences(test['comment_text'])"
   ]
  },
  {
   "cell_type": "code",
   "execution_count": null,
   "metadata": {
    "id": "haKQPtc-byBf"
   },
   "outputs": [],
   "source": [
    "x_test = pad_sequences(test_sequences, maxlen=max_comment_len)"
   ]
  },
  {
   "cell_type": "code",
   "execution_count": null,
   "metadata": {
    "colab": {
     "base_uri": "https://localhost:8080/",
     "height": 446
    },
    "id": "LQsqVZedb-Qf",
    "outputId": "cd593a00-4840-4ee6-da3e-91b547eb1389"
   },
   "outputs": [
    {
     "data": {
      "text/plain": [
       "array([[   0,    0,    0,    0,    0,    0,    0,    0,    0,    0,    0,\n",
       "           0,    0,    0,    0,    0,    0,    0,    0,    0,    0,    0,\n",
       "           0,    0,    0,    0,    0,    0,    0,    0,    0,    0,    0,\n",
       "           0,  127,    6,   12, 1085,    7,   67,  101, 1092,    3,    6,\n",
       "           4,   47,   14,  360,  175,  137],\n",
       "       [   0,    0,    0,    0,    0,    0,    0,    0,    0,    0,    0,\n",
       "           0,    0,    0,    0,    0,    0,    0,    0,    0,    0,    0,\n",
       "           0,    0,    0,    0,    0,    0,    0,    0,    0,    0,    0,\n",
       "           0,    0,    0,    0,    0,    0,    0,    0,    0,    0,    0,\n",
       "        1050,  559,   13,  293,    8, 3327],\n",
       "       [  74,   18, 1315,  294, 1055,    2,    1, 5799, 1081,    4,   75,\n",
       "          33,    6, 1498, 2804,   76,    1,  250, 1071,  562,  280, 6796,\n",
       "        5670,  258,  173,   50,  272,   76, 1435,   15,    1, 4063,   12,\n",
       "        2326,    1,   77, 4101,   10,    1,  694,   23,    9,   52,    8,\n",
       "         846,  800,    8,   10,    1, 1202],\n",
       "       [1942,  758, 7432,    4, 4564,  289, 7019,  498, 7019,   11,    8,\n",
       "         663,   10,   13,  194,    2, 1836,    9,    8,    5, 1588,   11,\n",
       "         287,   11,   95,   10,  758,  758,   34,  289,  758,    3,  117,\n",
       "        1221,    4,  758,  172,  249,    2,  124,   78,   14,   68,    7,\n",
       "          72, 1031,  145,   10,   13,  194],\n",
       "       [1543,    2,    1,  163,   97,  193,   78,  502,  147,  294,    5,\n",
       "         117, 1543,    2,    1,  163,   97,  193,   11,   43,    5,   28,\n",
       "         603,  229, 4108,   78, 2923,    4, 1016,    1, 1117,    1, 2579,\n",
       "           2,  150,   57,   36,   11,  685,   11,  104,   16,  242,    2,\n",
       "         106,   64,   13,  756, 2033,  178]], dtype=int32)"
      ]
     },
     "execution_count": 67,
     "metadata": {
      "tags": []
     },
     "output_type": "execute_result"
    }
   ],
   "source": [
    "x_test[:5]"
   ]
  },
  {
   "cell_type": "markdown",
   "metadata": {
    "id": "afswW4zVcPfT"
   },
   "source": [
    "Правильные ответы"
   ]
  },
  {
   "cell_type": "code",
   "execution_count": null,
   "metadata": {
    "id": "PjySIzu4WRZG"
   },
   "outputs": [],
   "source": [
    "y_test = test[['toxic',\t'severe_toxic',\t'obscene', 'threat',\t'insult',\t'identity_hate']]"
   ]
  },
  {
   "cell_type": "code",
   "execution_count": null,
   "metadata": {
    "colab": {
     "base_uri": "https://localhost:8080/",
     "height": 357
    },
    "id": "KTVojov1WhQu",
    "outputId": "0026bb7c-0350-40f1-9073-6aae52f11cad"
   },
   "outputs": [
    {
     "data": {
      "text/html": [
       "<div>\n",
       "<style scoped>\n",
       "    .dataframe tbody tr th:only-of-type {\n",
       "        vertical-align: middle;\n",
       "    }\n",
       "\n",
       "    .dataframe tbody tr th {\n",
       "        vertical-align: top;\n",
       "    }\n",
       "\n",
       "    .dataframe thead th {\n",
       "        text-align: right;\n",
       "    }\n",
       "</style>\n",
       "<table border=\"1\" class=\"dataframe\">\n",
       "  <thead>\n",
       "    <tr style=\"text-align: right;\">\n",
       "      <th></th>\n",
       "      <th>toxic</th>\n",
       "      <th>severe_toxic</th>\n",
       "      <th>obscene</th>\n",
       "      <th>threat</th>\n",
       "      <th>insult</th>\n",
       "      <th>identity_hate</th>\n",
       "    </tr>\n",
       "  </thead>\n",
       "  <tbody>\n",
       "    <tr>\n",
       "      <th>5</th>\n",
       "      <td>0</td>\n",
       "      <td>0</td>\n",
       "      <td>0</td>\n",
       "      <td>0</td>\n",
       "      <td>0</td>\n",
       "      <td>0</td>\n",
       "    </tr>\n",
       "    <tr>\n",
       "      <th>7</th>\n",
       "      <td>0</td>\n",
       "      <td>0</td>\n",
       "      <td>0</td>\n",
       "      <td>0</td>\n",
       "      <td>0</td>\n",
       "      <td>0</td>\n",
       "    </tr>\n",
       "    <tr>\n",
       "      <th>11</th>\n",
       "      <td>0</td>\n",
       "      <td>0</td>\n",
       "      <td>0</td>\n",
       "      <td>0</td>\n",
       "      <td>0</td>\n",
       "      <td>0</td>\n",
       "    </tr>\n",
       "    <tr>\n",
       "      <th>13</th>\n",
       "      <td>0</td>\n",
       "      <td>0</td>\n",
       "      <td>0</td>\n",
       "      <td>0</td>\n",
       "      <td>0</td>\n",
       "      <td>0</td>\n",
       "    </tr>\n",
       "    <tr>\n",
       "      <th>14</th>\n",
       "      <td>0</td>\n",
       "      <td>0</td>\n",
       "      <td>0</td>\n",
       "      <td>0</td>\n",
       "      <td>0</td>\n",
       "      <td>0</td>\n",
       "    </tr>\n",
       "    <tr>\n",
       "      <th>16</th>\n",
       "      <td>0</td>\n",
       "      <td>0</td>\n",
       "      <td>0</td>\n",
       "      <td>0</td>\n",
       "      <td>0</td>\n",
       "      <td>0</td>\n",
       "    </tr>\n",
       "    <tr>\n",
       "      <th>17</th>\n",
       "      <td>0</td>\n",
       "      <td>0</td>\n",
       "      <td>0</td>\n",
       "      <td>0</td>\n",
       "      <td>0</td>\n",
       "      <td>0</td>\n",
       "    </tr>\n",
       "    <tr>\n",
       "      <th>19</th>\n",
       "      <td>0</td>\n",
       "      <td>0</td>\n",
       "      <td>0</td>\n",
       "      <td>0</td>\n",
       "      <td>0</td>\n",
       "      <td>0</td>\n",
       "    </tr>\n",
       "    <tr>\n",
       "      <th>21</th>\n",
       "      <td>1</td>\n",
       "      <td>0</td>\n",
       "      <td>0</td>\n",
       "      <td>0</td>\n",
       "      <td>0</td>\n",
       "      <td>0</td>\n",
       "    </tr>\n",
       "    <tr>\n",
       "      <th>22</th>\n",
       "      <td>0</td>\n",
       "      <td>0</td>\n",
       "      <td>0</td>\n",
       "      <td>0</td>\n",
       "      <td>0</td>\n",
       "      <td>0</td>\n",
       "    </tr>\n",
       "  </tbody>\n",
       "</table>\n",
       "</div>"
      ],
      "text/plain": [
       "    toxic  severe_toxic  obscene  threat  insult  identity_hate\n",
       "5       0             0        0       0       0              0\n",
       "7       0             0        0       0       0              0\n",
       "11      0             0        0       0       0              0\n",
       "13      0             0        0       0       0              0\n",
       "14      0             0        0       0       0              0\n",
       "16      0             0        0       0       0              0\n",
       "17      0             0        0       0       0              0\n",
       "19      0             0        0       0       0              0\n",
       "21      1             0        0       0       0              0\n",
       "22      0             0        0       0       0              0"
      ]
     },
     "execution_count": 69,
     "metadata": {
      "tags": []
     },
     "output_type": "execute_result"
    }
   ],
   "source": [
    "y_test[:10]"
   ]
  },
  {
   "cell_type": "markdown",
   "metadata": {
    "heading_collapsed": true,
    "id": "3DJbzO3ucewV"
   },
   "source": [
    "## Оцениваем качество работы сети на тестовом наборе данных"
   ]
  },
  {
   "cell_type": "code",
   "execution_count": null,
   "metadata": {
    "hidden": true,
    "id": "OEzSL_M-ApHx"
   },
   "outputs": [],
   "source": [
    "model_lstm.load_weights(model_lstm_save_path)"
   ]
  },
  {
   "cell_type": "code",
   "execution_count": null,
   "metadata": {
    "colab": {
     "base_uri": "https://localhost:8080/",
     "height": 51
    },
    "hidden": true,
    "id": "fcGg4jA9AqN4",
    "outputId": "4079f201-82f3-416f-8ce3-dab93defbc85"
   },
   "outputs": [
    {
     "name": "stdout",
     "output_type": "stream",
     "text": [
      "2000/2000 [==============================] - 10s 5ms/step - loss: 0.0744 - accuracy: 0.9976 - auc: 0.9645\n"
     ]
    },
    {
     "data": {
      "text/plain": [
       "[0.07438363134860992, 0.9975616335868835, 0.9645270109176636]"
      ]
     },
     "execution_count": 120,
     "metadata": {
      "tags": []
     },
     "output_type": "execute_result"
    }
   ],
   "source": [
    "model_lstm.evaluate(x_test, y_test, verbose=1)"
   ]
  },
  {
   "cell_type": "markdown",
   "metadata": {
    "heading_collapsed": true,
    "id": "IO0qSZqYXmfW"
   },
   "source": [
    "## Пробуем классифицировать комментарии"
   ]
  },
  {
   "cell_type": "code",
   "execution_count": null,
   "metadata": {
    "hidden": true,
    "id": "v_KKPOpmXsMf"
   },
   "outputs": [],
   "source": [
    "  comment = \"X-BOX 360 SUKCS BIG BUMM AND LIKES IT UP THE ASS\""
   ]
  },
  {
   "cell_type": "code",
   "execution_count": null,
   "metadata": {
    "hidden": true,
    "id": "sQKo5HZFX_4W"
   },
   "outputs": [],
   "source": [
    "sequence = tokenizer.texts_to_sequences([comment])"
   ]
  },
  {
   "cell_type": "code",
   "execution_count": null,
   "metadata": {
    "colab": {
     "base_uri": "https://localhost:8080/",
     "height": 34
    },
    "hidden": true,
    "id": "JNHxPxo4YOZW",
    "outputId": "2cee8079-ed77-4fd9-9d60-c1c49843d6db"
   },
   "outputs": [
    {
     "data": {
      "text/plain": [
       "[[977, 926, 7883, 462, 4, 2272, 11, 76, 1, 417]]"
      ]
     },
     "execution_count": 98,
     "metadata": {
      "tags": []
     },
     "output_type": "execute_result"
    }
   ],
   "source": [
    "sequence"
   ]
  },
  {
   "cell_type": "code",
   "execution_count": null,
   "metadata": {
    "hidden": true,
    "id": "bktdD9N_YS82"
   },
   "outputs": [],
   "source": [
    "data = pad_sequences(sequence, maxlen=max_comment_len)"
   ]
  },
  {
   "cell_type": "code",
   "execution_count": null,
   "metadata": {
    "colab": {
     "base_uri": "https://localhost:8080/",
     "height": 103
    },
    "hidden": true,
    "id": "vo957T3cYWSO",
    "outputId": "fd31aa45-b595-41fc-af75-75e42c8d8ba2"
   },
   "outputs": [
    {
     "data": {
      "text/plain": [
       "array([[   0,    0,    0,    0,    0,    0,    0,    0,    0,    0,    0,\n",
       "           0,    0,    0,    0,    0,    0,    0,    0,    0,    0,    0,\n",
       "           0,    0,    0,    0,    0,    0,    0,    0,    0,    0,    0,\n",
       "           0,    0,    0,    0,    0,    0,    0,  977,  926, 7883,  462,\n",
       "           4, 2272,   11,   76,    1,  417]], dtype=int32)"
      ]
     },
     "execution_count": 100,
     "metadata": {
      "tags": []
     },
     "output_type": "execute_result"
    }
   ],
   "source": [
    "data"
   ]
  },
  {
   "cell_type": "code",
   "execution_count": null,
   "metadata": {
    "hidden": true,
    "id": "Rv15L8JFYYmB"
   },
   "outputs": [],
   "source": [
    "result = model_lstm.predict(data)"
   ]
  },
  {
   "cell_type": "code",
   "execution_count": null,
   "metadata": {
    "colab": {
     "base_uri": "https://localhost:8080/",
     "height": 51
    },
    "hidden": true,
    "id": "JZvwkQ6CYeHB",
    "outputId": "fcacb501-77ca-432d-82e5-af3843203905"
   },
   "outputs": [
    {
     "data": {
      "text/plain": [
       "array([[0.93577635, 0.05646498, 0.63453263, 0.02494773, 0.59398603,\n",
       "        0.07905076]], dtype=float32)"
      ]
     },
     "execution_count": 102,
     "metadata": {
      "tags": []
     },
     "output_type": "execute_result"
    }
   ],
   "source": [
    "result"
   ]
  }
 ],
 "metadata": {
  "accelerator": "GPU",
  "colab": {
   "provenance": []
  },
  "kernelspec": {
   "display_name": "Python 3 (ipykernel)",
   "language": "python",
   "name": "python3"
  },
  "language_info": {
   "codemirror_mode": {
    "name": "ipython",
    "version": 3
   },
   "file_extension": ".py",
   "mimetype": "text/x-python",
   "name": "python",
   "nbconvert_exporter": "python",
   "pygments_lexer": "ipython3",
   "version": "3.9.13"
  },
  "toc": {
   "base_numbering": 1,
   "nav_menu": {},
   "number_sections": true,
   "sideBar": true,
   "skip_h1_title": false,
   "title_cell": "Table of Contents",
   "title_sidebar": "Contents",
   "toc_cell": false,
   "toc_position": {},
   "toc_section_display": true,
   "toc_window_display": false
  },
  "varInspector": {
   "cols": {
    "lenName": 16,
    "lenType": 16,
    "lenVar": 40
   },
   "kernels_config": {
    "python": {
     "delete_cmd_postfix": "",
     "delete_cmd_prefix": "del ",
     "library": "var_list.py",
     "varRefreshCmd": "print(var_dic_list())"
    },
    "r": {
     "delete_cmd_postfix": ") ",
     "delete_cmd_prefix": "rm(",
     "library": "var_list.r",
     "varRefreshCmd": "cat(var_dic_list()) "
    }
   },
   "types_to_exclude": [
    "module",
    "function",
    "builtin_function_or_method",
    "instance",
    "_Feature"
   ],
   "window_display": false
  }
 },
 "nbformat": 4,
 "nbformat_minor": 1
}
